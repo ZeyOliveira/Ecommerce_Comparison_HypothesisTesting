{
 "cells": [
  {
   "cell_type": "markdown",
   "id": "c3ad994c",
   "metadata": {},
   "source": [
    "## Introduction"
   ]
  },
  {
   "cell_type": "code",
   "execution_count": 1,
   "id": "c83dbc19",
   "metadata": {},
   "outputs": [],
   "source": [
    "# development libraries\n",
    "import pandas as pd\n",
    "import numpy as np\n",
    "import matplotlib.pyplot as plt\n",
    "import seaborn as sns\n",
    "\n",
    "import warnings\n",
    "warnings.simplefilter(\"ignore\")\n",
    "\n",
    "# Visual Settings\n",
    "%matplotlib inline\n",
    "pd.set_option(\"display.max_columns\", None)\n",
    "pd.set_option(\"display.max_rows\", 100)\n",
    "pd.set_option(\"display.float_format\", lambda x:f\"{x:,.4f}\")\n",
    "\n",
    "# Graphic style\n",
    "plt.style.use(\"seaborn-v0_8\")\n",
    "sns.set_style(\"whitegrid\")\n",
    "sns.set_palette(\"Set1\")"
   ]
  },
  {
   "cell_type": "code",
   "execution_count": 2,
   "id": "d165f39b",
   "metadata": {},
   "outputs": [],
   "source": [
    "# importing the data\n",
    "df = pd.read_csv('../data/raw/data.csv', encoding='unicode_escape')"
   ]
  },
  {
   "cell_type": "code",
   "execution_count": 3,
   "id": "8a3c6cba",
   "metadata": {},
   "outputs": [
    {
     "data": {
      "text/html": [
       "<div>\n",
       "<style scoped>\n",
       "    .dataframe tbody tr th:only-of-type {\n",
       "        vertical-align: middle;\n",
       "    }\n",
       "\n",
       "    .dataframe tbody tr th {\n",
       "        vertical-align: top;\n",
       "    }\n",
       "\n",
       "    .dataframe thead th {\n",
       "        text-align: right;\n",
       "    }\n",
       "</style>\n",
       "<table border=\"1\" class=\"dataframe\">\n",
       "  <thead>\n",
       "    <tr style=\"text-align: right;\">\n",
       "      <th></th>\n",
       "      <th>InvoiceNo</th>\n",
       "      <th>StockCode</th>\n",
       "      <th>Description</th>\n",
       "      <th>Quantity</th>\n",
       "      <th>InvoiceDate</th>\n",
       "      <th>UnitPrice</th>\n",
       "      <th>CustomerID</th>\n",
       "      <th>Country</th>\n",
       "    </tr>\n",
       "  </thead>\n",
       "  <tbody>\n",
       "    <tr>\n",
       "      <th>0</th>\n",
       "      <td>536365</td>\n",
       "      <td>85123A</td>\n",
       "      <td>WHITE HANGING HEART T-LIGHT HOLDER</td>\n",
       "      <td>6</td>\n",
       "      <td>12/1/2010 8:26</td>\n",
       "      <td>2.5500</td>\n",
       "      <td>17,850.0000</td>\n",
       "      <td>United Kingdom</td>\n",
       "    </tr>\n",
       "    <tr>\n",
       "      <th>1</th>\n",
       "      <td>536365</td>\n",
       "      <td>71053</td>\n",
       "      <td>WHITE METAL LANTERN</td>\n",
       "      <td>6</td>\n",
       "      <td>12/1/2010 8:26</td>\n",
       "      <td>3.3900</td>\n",
       "      <td>17,850.0000</td>\n",
       "      <td>United Kingdom</td>\n",
       "    </tr>\n",
       "    <tr>\n",
       "      <th>2</th>\n",
       "      <td>536365</td>\n",
       "      <td>84406B</td>\n",
       "      <td>CREAM CUPID HEARTS COAT HANGER</td>\n",
       "      <td>8</td>\n",
       "      <td>12/1/2010 8:26</td>\n",
       "      <td>2.7500</td>\n",
       "      <td>17,850.0000</td>\n",
       "      <td>United Kingdom</td>\n",
       "    </tr>\n",
       "    <tr>\n",
       "      <th>3</th>\n",
       "      <td>536365</td>\n",
       "      <td>84029G</td>\n",
       "      <td>KNITTED UNION FLAG HOT WATER BOTTLE</td>\n",
       "      <td>6</td>\n",
       "      <td>12/1/2010 8:26</td>\n",
       "      <td>3.3900</td>\n",
       "      <td>17,850.0000</td>\n",
       "      <td>United Kingdom</td>\n",
       "    </tr>\n",
       "    <tr>\n",
       "      <th>4</th>\n",
       "      <td>536365</td>\n",
       "      <td>84029E</td>\n",
       "      <td>RED WOOLLY HOTTIE WHITE HEART.</td>\n",
       "      <td>6</td>\n",
       "      <td>12/1/2010 8:26</td>\n",
       "      <td>3.3900</td>\n",
       "      <td>17,850.0000</td>\n",
       "      <td>United Kingdom</td>\n",
       "    </tr>\n",
       "  </tbody>\n",
       "</table>\n",
       "</div>"
      ],
      "text/plain": [
       "  InvoiceNo StockCode                          Description  Quantity  \\\n",
       "0    536365    85123A   WHITE HANGING HEART T-LIGHT HOLDER         6   \n",
       "1    536365     71053                  WHITE METAL LANTERN         6   \n",
       "2    536365    84406B       CREAM CUPID HEARTS COAT HANGER         8   \n",
       "3    536365    84029G  KNITTED UNION FLAG HOT WATER BOTTLE         6   \n",
       "4    536365    84029E       RED WOOLLY HOTTIE WHITE HEART.         6   \n",
       "\n",
       "      InvoiceDate  UnitPrice  CustomerID         Country  \n",
       "0  12/1/2010 8:26     2.5500 17,850.0000  United Kingdom  \n",
       "1  12/1/2010 8:26     3.3900 17,850.0000  United Kingdom  \n",
       "2  12/1/2010 8:26     2.7500 17,850.0000  United Kingdom  \n",
       "3  12/1/2010 8:26     3.3900 17,850.0000  United Kingdom  \n",
       "4  12/1/2010 8:26     3.3900 17,850.0000  United Kingdom  "
      ]
     },
     "execution_count": 3,
     "metadata": {},
     "output_type": "execute_result"
    }
   ],
   "source": [
    "df.head()"
   ]
  },
  {
   "cell_type": "code",
   "execution_count": 4,
   "id": "c4a13dea",
   "metadata": {},
   "outputs": [
    {
     "name": "stdout",
     "output_type": "stream",
     "text": [
      "<class 'pandas.core.frame.DataFrame'>\n",
      "RangeIndex: 541909 entries, 0 to 541908\n",
      "Data columns (total 8 columns):\n",
      " #   Column       Non-Null Count   Dtype  \n",
      "---  ------       --------------   -----  \n",
      " 0   InvoiceNo    541909 non-null  object \n",
      " 1   StockCode    541909 non-null  object \n",
      " 2   Description  540455 non-null  object \n",
      " 3   Quantity     541909 non-null  int64  \n",
      " 4   InvoiceDate  541909 non-null  object \n",
      " 5   UnitPrice    541909 non-null  float64\n",
      " 6   CustomerID   406829 non-null  float64\n",
      " 7   Country      541909 non-null  object \n",
      "dtypes: float64(2), int64(1), object(5)\n",
      "memory usage: 33.1+ MB\n"
     ]
    }
   ],
   "source": [
    "# information\n",
    "df.info()"
   ]
  },
  {
   "cell_type": "code",
   "execution_count": 5,
   "id": "7de45ef4",
   "metadata": {},
   "outputs": [
    {
     "data": {
      "text/html": [
       "<div>\n",
       "<style scoped>\n",
       "    .dataframe tbody tr th:only-of-type {\n",
       "        vertical-align: middle;\n",
       "    }\n",
       "\n",
       "    .dataframe tbody tr th {\n",
       "        vertical-align: top;\n",
       "    }\n",
       "\n",
       "    .dataframe thead th {\n",
       "        text-align: right;\n",
       "    }\n",
       "</style>\n",
       "<table border=\"1\" class=\"dataframe\">\n",
       "  <thead>\n",
       "    <tr style=\"text-align: right;\">\n",
       "      <th></th>\n",
       "      <th>Quantity</th>\n",
       "      <th>UnitPrice</th>\n",
       "      <th>CustomerID</th>\n",
       "    </tr>\n",
       "  </thead>\n",
       "  <tbody>\n",
       "    <tr>\n",
       "      <th>count</th>\n",
       "      <td>541,909.0000</td>\n",
       "      <td>541,909.0000</td>\n",
       "      <td>406,829.0000</td>\n",
       "    </tr>\n",
       "    <tr>\n",
       "      <th>mean</th>\n",
       "      <td>9.5522</td>\n",
       "      <td>4.6111</td>\n",
       "      <td>15,287.6906</td>\n",
       "    </tr>\n",
       "    <tr>\n",
       "      <th>std</th>\n",
       "      <td>218.0812</td>\n",
       "      <td>96.7599</td>\n",
       "      <td>1,713.6003</td>\n",
       "    </tr>\n",
       "    <tr>\n",
       "      <th>min</th>\n",
       "      <td>-80,995.0000</td>\n",
       "      <td>-11,062.0600</td>\n",
       "      <td>12,346.0000</td>\n",
       "    </tr>\n",
       "    <tr>\n",
       "      <th>25%</th>\n",
       "      <td>1.0000</td>\n",
       "      <td>1.2500</td>\n",
       "      <td>13,953.0000</td>\n",
       "    </tr>\n",
       "    <tr>\n",
       "      <th>50%</th>\n",
       "      <td>3.0000</td>\n",
       "      <td>2.0800</td>\n",
       "      <td>15,152.0000</td>\n",
       "    </tr>\n",
       "    <tr>\n",
       "      <th>75%</th>\n",
       "      <td>10.0000</td>\n",
       "      <td>4.1300</td>\n",
       "      <td>16,791.0000</td>\n",
       "    </tr>\n",
       "    <tr>\n",
       "      <th>max</th>\n",
       "      <td>80,995.0000</td>\n",
       "      <td>38,970.0000</td>\n",
       "      <td>18,287.0000</td>\n",
       "    </tr>\n",
       "  </tbody>\n",
       "</table>\n",
       "</div>"
      ],
      "text/plain": [
       "          Quantity    UnitPrice   CustomerID\n",
       "count 541,909.0000 541,909.0000 406,829.0000\n",
       "mean        9.5522       4.6111  15,287.6906\n",
       "std       218.0812      96.7599   1,713.6003\n",
       "min   -80,995.0000 -11,062.0600  12,346.0000\n",
       "25%         1.0000       1.2500  13,953.0000\n",
       "50%         3.0000       2.0800  15,152.0000\n",
       "75%        10.0000       4.1300  16,791.0000\n",
       "max    80,995.0000  38,970.0000  18,287.0000"
      ]
     },
     "execution_count": 5,
     "metadata": {},
     "output_type": "execute_result"
    }
   ],
   "source": [
    "# descriptive statistics\n",
    "df.describe()"
   ]
  },
  {
   "cell_type": "code",
   "execution_count": 6,
   "id": "cf61f7b4",
   "metadata": {},
   "outputs": [
    {
     "data": {
      "text/plain": [
       "np.int64(5268)"
      ]
     },
     "execution_count": 6,
     "metadata": {},
     "output_type": "execute_result"
    }
   ],
   "source": [
    "# checking and dropping duplicates\n",
    "df.duplicated().sum()"
   ]
  },
  {
   "cell_type": "code",
   "execution_count": 7,
   "id": "457d8846",
   "metadata": {},
   "outputs": [],
   "source": [
    "df.drop_duplicates(inplace=True)"
   ]
  },
  {
   "cell_type": "code",
   "execution_count": 8,
   "id": "55aecd1f",
   "metadata": {},
   "outputs": [
    {
     "data": {
      "text/plain": [
       "np.int64(0)"
      ]
     },
     "execution_count": 8,
     "metadata": {},
     "output_type": "execute_result"
    }
   ],
   "source": [
    "df.duplicated().sum()"
   ]
  },
  {
   "cell_type": "markdown",
   "id": "56f059f9",
   "metadata": {},
   "source": [
    "### Feature engineering"
   ]
  },
  {
   "cell_type": "code",
   "execution_count": 9,
   "id": "ffa85d8c",
   "metadata": {},
   "outputs": [],
   "source": [
    "df['InvoiceDate'] = pd.to_datetime(df['InvoiceDate'])"
   ]
  },
  {
   "cell_type": "code",
   "execution_count": 10,
   "id": "6e0d4927",
   "metadata": {},
   "outputs": [
    {
     "name": "stdout",
     "output_type": "stream",
     "text": [
      "<class 'pandas.core.series.Series'>\n",
      "Index: 536641 entries, 0 to 541908\n",
      "Series name: InvoiceDate\n",
      "Non-Null Count   Dtype         \n",
      "--------------   -----         \n",
      "536641 non-null  datetime64[ns]\n",
      "dtypes: datetime64[ns](1)\n",
      "memory usage: 8.2 MB\n"
     ]
    }
   ],
   "source": [
    "df['InvoiceDate'].info()"
   ]
  },
  {
   "cell_type": "code",
   "execution_count": 11,
   "id": "339aa79b",
   "metadata": {},
   "outputs": [
    {
     "data": {
      "text/html": [
       "<div>\n",
       "<style scoped>\n",
       "    .dataframe tbody tr th:only-of-type {\n",
       "        vertical-align: middle;\n",
       "    }\n",
       "\n",
       "    .dataframe tbody tr th {\n",
       "        vertical-align: top;\n",
       "    }\n",
       "\n",
       "    .dataframe thead th {\n",
       "        text-align: right;\n",
       "    }\n",
       "</style>\n",
       "<table border=\"1\" class=\"dataframe\">\n",
       "  <thead>\n",
       "    <tr style=\"text-align: right;\">\n",
       "      <th></th>\n",
       "      <th>InvoiceNo</th>\n",
       "      <th>StockCode</th>\n",
       "      <th>Description</th>\n",
       "      <th>Quantity</th>\n",
       "      <th>InvoiceDate</th>\n",
       "      <th>UnitPrice</th>\n",
       "      <th>CustomerID</th>\n",
       "      <th>Country</th>\n",
       "    </tr>\n",
       "  </thead>\n",
       "  <tbody>\n",
       "    <tr>\n",
       "      <th>141</th>\n",
       "      <td>C536379</td>\n",
       "      <td>D</td>\n",
       "      <td>Discount</td>\n",
       "      <td>-1</td>\n",
       "      <td>2010-12-01 09:41:00</td>\n",
       "      <td>27.5000</td>\n",
       "      <td>14,527.0000</td>\n",
       "      <td>United Kingdom</td>\n",
       "    </tr>\n",
       "    <tr>\n",
       "      <th>154</th>\n",
       "      <td>C536383</td>\n",
       "      <td>35004C</td>\n",
       "      <td>SET OF 3 COLOURED  FLYING DUCKS</td>\n",
       "      <td>-1</td>\n",
       "      <td>2010-12-01 09:49:00</td>\n",
       "      <td>4.6500</td>\n",
       "      <td>15,311.0000</td>\n",
       "      <td>United Kingdom</td>\n",
       "    </tr>\n",
       "    <tr>\n",
       "      <th>235</th>\n",
       "      <td>C536391</td>\n",
       "      <td>22556</td>\n",
       "      <td>PLASTERS IN TIN CIRCUS PARADE</td>\n",
       "      <td>-12</td>\n",
       "      <td>2010-12-01 10:24:00</td>\n",
       "      <td>1.6500</td>\n",
       "      <td>17,548.0000</td>\n",
       "      <td>United Kingdom</td>\n",
       "    </tr>\n",
       "    <tr>\n",
       "      <th>236</th>\n",
       "      <td>C536391</td>\n",
       "      <td>21984</td>\n",
       "      <td>PACK OF 12 PINK PAISLEY TISSUES</td>\n",
       "      <td>-24</td>\n",
       "      <td>2010-12-01 10:24:00</td>\n",
       "      <td>0.2900</td>\n",
       "      <td>17,548.0000</td>\n",
       "      <td>United Kingdom</td>\n",
       "    </tr>\n",
       "    <tr>\n",
       "      <th>237</th>\n",
       "      <td>C536391</td>\n",
       "      <td>21983</td>\n",
       "      <td>PACK OF 12 BLUE PAISLEY TISSUES</td>\n",
       "      <td>-24</td>\n",
       "      <td>2010-12-01 10:24:00</td>\n",
       "      <td>0.2900</td>\n",
       "      <td>17,548.0000</td>\n",
       "      <td>United Kingdom</td>\n",
       "    </tr>\n",
       "    <tr>\n",
       "      <th>...</th>\n",
       "      <td>...</td>\n",
       "      <td>...</td>\n",
       "      <td>...</td>\n",
       "      <td>...</td>\n",
       "      <td>...</td>\n",
       "      <td>...</td>\n",
       "      <td>...</td>\n",
       "      <td>...</td>\n",
       "    </tr>\n",
       "    <tr>\n",
       "      <th>540449</th>\n",
       "      <td>C581490</td>\n",
       "      <td>23144</td>\n",
       "      <td>ZINC T-LIGHT HOLDER STARS SMALL</td>\n",
       "      <td>-11</td>\n",
       "      <td>2011-12-09 09:57:00</td>\n",
       "      <td>0.8300</td>\n",
       "      <td>14,397.0000</td>\n",
       "      <td>United Kingdom</td>\n",
       "    </tr>\n",
       "    <tr>\n",
       "      <th>541541</th>\n",
       "      <td>C581499</td>\n",
       "      <td>M</td>\n",
       "      <td>Manual</td>\n",
       "      <td>-1</td>\n",
       "      <td>2011-12-09 10:28:00</td>\n",
       "      <td>224.6900</td>\n",
       "      <td>15,498.0000</td>\n",
       "      <td>United Kingdom</td>\n",
       "    </tr>\n",
       "    <tr>\n",
       "      <th>541715</th>\n",
       "      <td>C581568</td>\n",
       "      <td>21258</td>\n",
       "      <td>VICTORIAN SEWING BOX LARGE</td>\n",
       "      <td>-5</td>\n",
       "      <td>2011-12-09 11:57:00</td>\n",
       "      <td>10.9500</td>\n",
       "      <td>15,311.0000</td>\n",
       "      <td>United Kingdom</td>\n",
       "    </tr>\n",
       "    <tr>\n",
       "      <th>541716</th>\n",
       "      <td>C581569</td>\n",
       "      <td>84978</td>\n",
       "      <td>HANGING HEART JAR T-LIGHT HOLDER</td>\n",
       "      <td>-1</td>\n",
       "      <td>2011-12-09 11:58:00</td>\n",
       "      <td>1.2500</td>\n",
       "      <td>17,315.0000</td>\n",
       "      <td>United Kingdom</td>\n",
       "    </tr>\n",
       "    <tr>\n",
       "      <th>541717</th>\n",
       "      <td>C581569</td>\n",
       "      <td>20979</td>\n",
       "      <td>36 PENCILS TUBE RED RETROSPOT</td>\n",
       "      <td>-5</td>\n",
       "      <td>2011-12-09 11:58:00</td>\n",
       "      <td>1.2500</td>\n",
       "      <td>17,315.0000</td>\n",
       "      <td>United Kingdom</td>\n",
       "    </tr>\n",
       "  </tbody>\n",
       "</table>\n",
       "<p>10587 rows × 8 columns</p>\n",
       "</div>"
      ],
      "text/plain": [
       "       InvoiceNo StockCode                       Description  Quantity  \\\n",
       "141      C536379         D                          Discount        -1   \n",
       "154      C536383    35004C   SET OF 3 COLOURED  FLYING DUCKS        -1   \n",
       "235      C536391     22556    PLASTERS IN TIN CIRCUS PARADE        -12   \n",
       "236      C536391     21984  PACK OF 12 PINK PAISLEY TISSUES        -24   \n",
       "237      C536391     21983  PACK OF 12 BLUE PAISLEY TISSUES        -24   \n",
       "...          ...       ...                               ...       ...   \n",
       "540449   C581490     23144   ZINC T-LIGHT HOLDER STARS SMALL       -11   \n",
       "541541   C581499         M                            Manual        -1   \n",
       "541715   C581568     21258        VICTORIAN SEWING BOX LARGE        -5   \n",
       "541716   C581569     84978  HANGING HEART JAR T-LIGHT HOLDER        -1   \n",
       "541717   C581569     20979     36 PENCILS TUBE RED RETROSPOT        -5   \n",
       "\n",
       "               InvoiceDate  UnitPrice  CustomerID         Country  \n",
       "141    2010-12-01 09:41:00    27.5000 14,527.0000  United Kingdom  \n",
       "154    2010-12-01 09:49:00     4.6500 15,311.0000  United Kingdom  \n",
       "235    2010-12-01 10:24:00     1.6500 17,548.0000  United Kingdom  \n",
       "236    2010-12-01 10:24:00     0.2900 17,548.0000  United Kingdom  \n",
       "237    2010-12-01 10:24:00     0.2900 17,548.0000  United Kingdom  \n",
       "...                    ...        ...         ...             ...  \n",
       "540449 2011-12-09 09:57:00     0.8300 14,397.0000  United Kingdom  \n",
       "541541 2011-12-09 10:28:00   224.6900 15,498.0000  United Kingdom  \n",
       "541715 2011-12-09 11:57:00    10.9500 15,311.0000  United Kingdom  \n",
       "541716 2011-12-09 11:58:00     1.2500 17,315.0000  United Kingdom  \n",
       "541717 2011-12-09 11:58:00     1.2500 17,315.0000  United Kingdom  \n",
       "\n",
       "[10587 rows x 8 columns]"
      ]
     },
     "execution_count": 11,
     "metadata": {},
     "output_type": "execute_result"
    }
   ],
   "source": [
    "df.query('Quantity < 0')"
   ]
  },
  {
   "cell_type": "markdown",
   "id": "fc89b68b",
   "metadata": {},
   "source": [
    "- Valores negativos em **Quantity** muito provavelmente indica devoluções ou cancelamentos de pedidos. Nesse caso, esses itens não represetam vendas efetivas, e portanto serão removidos."
   ]
  },
  {
   "cell_type": "code",
   "execution_count": 12,
   "id": "2408716c",
   "metadata": {},
   "outputs": [
    {
     "data": {
      "text/html": [
       "<div>\n",
       "<style scoped>\n",
       "    .dataframe tbody tr th:only-of-type {\n",
       "        vertical-align: middle;\n",
       "    }\n",
       "\n",
       "    .dataframe tbody tr th {\n",
       "        vertical-align: top;\n",
       "    }\n",
       "\n",
       "    .dataframe thead th {\n",
       "        text-align: right;\n",
       "    }\n",
       "</style>\n",
       "<table border=\"1\" class=\"dataframe\">\n",
       "  <thead>\n",
       "    <tr style=\"text-align: right;\">\n",
       "      <th></th>\n",
       "      <th>InvoiceNo</th>\n",
       "      <th>StockCode</th>\n",
       "      <th>Description</th>\n",
       "      <th>Quantity</th>\n",
       "      <th>InvoiceDate</th>\n",
       "      <th>UnitPrice</th>\n",
       "      <th>CustomerID</th>\n",
       "      <th>Country</th>\n",
       "    </tr>\n",
       "  </thead>\n",
       "  <tbody>\n",
       "    <tr>\n",
       "      <th>299983</th>\n",
       "      <td>A563186</td>\n",
       "      <td>B</td>\n",
       "      <td>Adjust bad debt</td>\n",
       "      <td>1</td>\n",
       "      <td>2011-08-12 14:51:00</td>\n",
       "      <td>-11,062.0600</td>\n",
       "      <td>NaN</td>\n",
       "      <td>United Kingdom</td>\n",
       "    </tr>\n",
       "    <tr>\n",
       "      <th>299984</th>\n",
       "      <td>A563187</td>\n",
       "      <td>B</td>\n",
       "      <td>Adjust bad debt</td>\n",
       "      <td>1</td>\n",
       "      <td>2011-08-12 14:52:00</td>\n",
       "      <td>-11,062.0600</td>\n",
       "      <td>NaN</td>\n",
       "      <td>United Kingdom</td>\n",
       "    </tr>\n",
       "  </tbody>\n",
       "</table>\n",
       "</div>"
      ],
      "text/plain": [
       "       InvoiceNo StockCode      Description  Quantity         InvoiceDate  \\\n",
       "299983   A563186         B  Adjust bad debt         1 2011-08-12 14:51:00   \n",
       "299984   A563187         B  Adjust bad debt         1 2011-08-12 14:52:00   \n",
       "\n",
       "          UnitPrice  CustomerID         Country  \n",
       "299983 -11,062.0600         NaN  United Kingdom  \n",
       "299984 -11,062.0600         NaN  United Kingdom  "
      ]
     },
     "execution_count": 12,
     "metadata": {},
     "output_type": "execute_result"
    }
   ],
   "source": [
    "df.query('UnitPrice < 0')"
   ]
  },
  {
   "cell_type": "markdown",
   "id": "f4345fe4",
   "metadata": {},
   "source": [
    "- Negative values ​​in **UnitPrice** do not make sense in a sale, values ​​equal to zero or negative may indicate incorrect data, or promotional items; but in this case, more specifically, they are Financial Adjustments."
   ]
  },
  {
   "cell_type": "code",
   "execution_count": 13,
   "id": "8b591399",
   "metadata": {},
   "outputs": [],
   "source": [
    "# filtering values\n",
    "df_copy = df.query('Quantity > 0')\n",
    "df_copy = df_copy.query('UnitPrice > 0')"
   ]
  },
  {
   "cell_type": "code",
   "execution_count": 14,
   "id": "97a8c9e8",
   "metadata": {},
   "outputs": [
    {
     "data": {
      "text/html": [
       "<div>\n",
       "<style scoped>\n",
       "    .dataframe tbody tr th:only-of-type {\n",
       "        vertical-align: middle;\n",
       "    }\n",
       "\n",
       "    .dataframe tbody tr th {\n",
       "        vertical-align: top;\n",
       "    }\n",
       "\n",
       "    .dataframe thead th {\n",
       "        text-align: right;\n",
       "    }\n",
       "</style>\n",
       "<table border=\"1\" class=\"dataframe\">\n",
       "  <thead>\n",
       "    <tr style=\"text-align: right;\">\n",
       "      <th></th>\n",
       "      <th>InvoiceNo</th>\n",
       "      <th>StockCode</th>\n",
       "      <th>Description</th>\n",
       "      <th>Quantity</th>\n",
       "      <th>InvoiceDate</th>\n",
       "      <th>UnitPrice</th>\n",
       "      <th>CustomerID</th>\n",
       "      <th>Country</th>\n",
       "    </tr>\n",
       "  </thead>\n",
       "  <tbody>\n",
       "  </tbody>\n",
       "</table>\n",
       "</div>"
      ],
      "text/plain": [
       "Empty DataFrame\n",
       "Columns: [InvoiceNo, StockCode, Description, Quantity, InvoiceDate, UnitPrice, CustomerID, Country]\n",
       "Index: []"
      ]
     },
     "execution_count": 14,
     "metadata": {},
     "output_type": "execute_result"
    }
   ],
   "source": [
    "df_copy.query('Quantity < 0')"
   ]
  },
  {
   "cell_type": "code",
   "execution_count": 15,
   "id": "1f99b647",
   "metadata": {},
   "outputs": [
    {
     "data": {
      "text/html": [
       "<div>\n",
       "<style scoped>\n",
       "    .dataframe tbody tr th:only-of-type {\n",
       "        vertical-align: middle;\n",
       "    }\n",
       "\n",
       "    .dataframe tbody tr th {\n",
       "        vertical-align: top;\n",
       "    }\n",
       "\n",
       "    .dataframe thead th {\n",
       "        text-align: right;\n",
       "    }\n",
       "</style>\n",
       "<table border=\"1\" class=\"dataframe\">\n",
       "  <thead>\n",
       "    <tr style=\"text-align: right;\">\n",
       "      <th></th>\n",
       "      <th>InvoiceNo</th>\n",
       "      <th>StockCode</th>\n",
       "      <th>Description</th>\n",
       "      <th>Quantity</th>\n",
       "      <th>InvoiceDate</th>\n",
       "      <th>UnitPrice</th>\n",
       "      <th>CustomerID</th>\n",
       "      <th>Country</th>\n",
       "    </tr>\n",
       "  </thead>\n",
       "  <tbody>\n",
       "  </tbody>\n",
       "</table>\n",
       "</div>"
      ],
      "text/plain": [
       "Empty DataFrame\n",
       "Columns: [InvoiceNo, StockCode, Description, Quantity, InvoiceDate, UnitPrice, CustomerID, Country]\n",
       "Index: []"
      ]
     },
     "execution_count": 15,
     "metadata": {},
     "output_type": "execute_result"
    }
   ],
   "source": [
    "df_copy.query('UnitPrice < 0')\n"
   ]
  },
  {
   "cell_type": "code",
   "execution_count": 16,
   "id": "2694b817",
   "metadata": {},
   "outputs": [
    {
     "data": {
      "text/plain": [
       "count   524,878.0000\n",
       "mean         20.2754\n",
       "std         271.6936\n",
       "min           0.0010\n",
       "25%           3.9000\n",
       "50%           9.9200\n",
       "75%          17.7000\n",
       "max     168,469.6000\n",
       "Name: TotalPriceLineItem, dtype: float64"
      ]
     },
     "execution_count": 16,
     "metadata": {},
     "output_type": "execute_result"
    }
   ],
   "source": [
    "# creating a column of interest\n",
    "df_copy['TotalPriceLineItem'] = df_copy['Quantity'] * df_copy['UnitPrice']\n",
    "df_copy['TotalPriceLineItem'].describe()"
   ]
  },
  {
   "cell_type": "code",
   "execution_count": 17,
   "id": "8dc74878",
   "metadata": {},
   "outputs": [
    {
     "data": {
      "text/plain": [
       "np.int64(524878)"
      ]
     },
     "execution_count": 17,
     "metadata": {},
     "output_type": "execute_result"
    }
   ],
   "source": [
    "df_copy['TotalPriceLineItem'].count()"
   ]
  },
  {
   "cell_type": "markdown",
   "id": "8f75bb2b",
   "metadata": {},
   "source": [
    "- This is the number of valid transactions, i.e., items sold with quantity and price, after cleaning."
   ]
  },
  {
   "cell_type": "code",
   "execution_count": 18,
   "id": "a0ee5769",
   "metadata": {},
   "outputs": [
    {
     "data": {
      "text/plain": [
       "np.float64(20.275398862211794)"
      ]
     },
     "execution_count": 18,
     "metadata": {},
     "output_type": "execute_result"
    }
   ],
   "source": [
    "df_copy['TotalPriceLineItem'].mean()"
   ]
  },
  {
   "cell_type": "markdown",
   "id": "d4a89fb9",
   "metadata": {},
   "source": [
    "- The average value per item sold in this sample is approximately £20.12."
   ]
  },
  {
   "cell_type": "code",
   "execution_count": 19,
   "id": "fae62d91",
   "metadata": {},
   "outputs": [
    {
     "data": {
      "text/plain": [
       "np.float64(271.69356629922254)"
      ]
     },
     "execution_count": 19,
     "metadata": {},
     "output_type": "execute_result"
    }
   ],
   "source": [
    "df_copy['TotalPriceLineItem'].std()"
   ]
  },
  {
   "cell_type": "markdown",
   "id": "412e5b28",
   "metadata": {},
   "source": [
    "- Very high deviation, which means that the dispersion of values is large. This is common in sales data, as some items may have values above the average."
   ]
  },
  {
   "cell_type": "code",
   "execution_count": 20,
   "id": "ff7ebe93",
   "metadata": {},
   "outputs": [
    {
     "data": {
      "text/plain": [
       "np.float64(168469.6)"
      ]
     },
     "execution_count": 20,
     "metadata": {},
     "output_type": "execute_result"
    }
   ],
   "source": [
    "df_copy['TotalPriceLineItem'].max()"
   ]
  },
  {
   "cell_type": "markdown",
   "id": "20c87825",
   "metadata": {},
   "source": [
    "There are items with extremely high sales values, which only confirms the high dispersion and the presence of potential outliers, or items of large volume/value."
   ]
  },
  {
   "cell_type": "code",
   "execution_count": 21,
   "id": "20636f5e",
   "metadata": {},
   "outputs": [
    {
     "data": {
      "text/plain": [
       "dtype('float64')"
      ]
     },
     "execution_count": 21,
     "metadata": {},
     "output_type": "execute_result"
    }
   ],
   "source": [
    "df_copy.UnitPrice.dtype"
   ]
  },
  {
   "cell_type": "code",
   "execution_count": 22,
   "id": "0c58f80e",
   "metadata": {},
   "outputs": [
    {
     "data": {
      "text/plain": [
       "TotalPriceLineItem\n",
       "15.0000       20211\n",
       "2.4600         9275\n",
       "17.7000        9232\n",
       "1.2500         9065\n",
       "4.1300         8811\n",
       "              ...  \n",
       "1,853.8000        1\n",
       "1,581.0000        1\n",
       "1,190.4000        1\n",
       "1,170.0000        1\n",
       "241.0800          1\n",
       "Name: count, Length: 4906, dtype: int64"
      ]
     },
     "execution_count": 22,
     "metadata": {},
     "output_type": "execute_result"
    }
   ],
   "source": [
    "df_copy.TotalPriceLineItem.value_counts()"
   ]
  },
  {
   "cell_type": "code",
   "execution_count": 23,
   "id": "ef3e15fd",
   "metadata": {},
   "outputs": [
    {
     "data": {
      "image/png": "[encoded data removed]",
      "text/plain": [
       "<Figure size 1000x600 with 1 Axes>"
      ]
     },
     "metadata": {},
     "output_type": "display_data"
    }
   ],
   "source": [
    "plt.figure(figsize=(10, 6))\n",
    "sns.histplot(df_copy['TotalPriceLineItem'], bins=50, log_scale=(True, False)) \n",
    "plt.xlim(0, df_copy['TotalPriceLineItem'].quantile(0.99))\n",
    "plt.title('TotalPriceLineItem Distribution (Logarithmic Scale and Adjusted Bins)')\n",
    "plt.xlabel('TotalPriceLineItem (Logarithmic Scale)')\n",
    "plt.ylabel('Counting')\n",
    "plt.show()"
   ]
  },
  {
   "cell_type": "markdown",
   "id": "e64e9320",
   "metadata": {},
   "source": [
    "- **Insights**:  \n",
    " - Most line items have a total price between 1 and 100.\n",
    " - The trend (most common price value) for line items is in the range of 10 to 20.\n",
    " - Items with prices lower than 1 are rare, as are very high prices.\n"
   ]
  },
  {
   "cell_type": "code",
   "execution_count": 24,
   "id": "ae3fe120",
   "metadata": {},
   "outputs": [
    {
     "data": {
      "image/png": "[encoded data removed]",
      "text/plain": [
       "<Figure size 1200x600 with 1 Axes>"
      ]
     },
     "metadata": {},
     "output_type": "display_data"
    }
   ],
   "source": [
    "benchmark_value = 10.00\n",
    "\n",
    "\n",
    "plt.figure(figsize=(12, 6))\n",
    "sns.boxplot(data=df_copy, x='TotalPriceLineItem', color='red') \n",
    "plt.xscale('log')\n",
    "plt.axvline(x=benchmark_value, color='blue', linestyle='--', linewidth=2, label=f'Benchmark: £{benchmark_value:.2f}')\n",
    "plt.title('Distribution of TotalPriceLineItem with Benchmark (£10.00)', fontsize=14)\n",
    "plt.xlabel('TotalPriceLineItem (Logarithmic Scale)', fontsize=12)\n",
    "plt.show()"
   ]
  },
  {
   "cell_type": "code",
   "execution_count": 25,
   "id": "7a237a65",
   "metadata": {},
   "outputs": [
    {
     "data": {
      "text/plain": [
       "np.float64(9.92)"
      ]
     },
     "execution_count": 25,
     "metadata": {},
     "output_type": "execute_result"
    }
   ],
   "source": [
    "df_copy['TotalPriceLineItem'].median()"
   ]
  },
  {
   "cell_type": "markdown",
   "id": "79e89364",
   "metadata": {},
   "source": [
    "- From the median, it is possible to see that the highest concentration of data is in the low range, with the median being practically 10, i.e., 50% of transactions have relatively low values.\n",
    "- The “whiskers” and multiple outliers on the right indicate a long tail of higher values, which are less frequent but do exist and extend up to 10^5.\n",
    "- The £10.00 benchmark line is located at the upper edge or very close to the Third Quartile (Q3) of the red box. This means that approximately 75% (three-quarters) of TotalPriceLineItems are below or equal to the benchmark value of $10.00.\n",
    "Only 25% (or less) of TotalPriceLineItems are above the benchmark, and that 25% includes the many outliers visible on the right."
   ]
  },
  {
   "cell_type": "markdown",
   "id": "51655708",
   "metadata": {},
   "source": [
    "# Hypothesis Testing"
   ]
  },
  {
   "cell_type": "markdown",
   "id": "539c57e8",
   "metadata": {},
   "source": [
    "## Test t: Compare TotalPriceLineItem between the United Kingdom and Germany\n",
    "**Why this type of analysis is good for business:**\n",
    "\n",
    "E-commerce companies often tailor pricing, marketing, and product assortment strategies based on country. Knowing whether the average value of items sold varies significantly across markets is crucial for decision-making.\n",
    "\n",
    "The results can indicate whether a country tends to purchase higher- or lower-value items, which can lead to further investigation into consumer behavior, purchasing power, or the success of specific products in different markets."
   ]
  },
  {
   "cell_type": "markdown",
   "id": "29bd3228",
   "metadata": {},
   "source": [
    "But before performing the two-sample independent t-test, let's check the assumptions that this test generally requires.\n",
    "\n",
    "\n",
    "**1- Independence of observations:** Line item transactions from the United Kingdom and Germany are from different customers and purchase events.\n",
    "\n",
    "**2- Continuous scale variable:** Monetary measurements are usually continuous.\n",
    "\n",
    "**3- Normality of distribution for each group:** Check whether the distribution of the **TotalPriceLineItem** column is approximately normal in each group.\n",
    "\n",
    "**4- Homogeneity of variances:** The variance of the study groups should be approximately equal in both groups (UK and Germany)."
   ]
  },
  {
   "cell_type": "markdown",
   "id": "b19de83e",
   "metadata": {},
   "source": [
    "#### Normality Test"
   ]
  },
  {
   "cell_type": "code",
   "execution_count": 26,
   "id": "67c58861",
   "metadata": {},
   "outputs": [
    {
     "data": {
      "text/html": [
       "<div>\n",
       "<style scoped>\n",
       "    .dataframe tbody tr th:only-of-type {\n",
       "        vertical-align: middle;\n",
       "    }\n",
       "\n",
       "    .dataframe tbody tr th {\n",
       "        vertical-align: top;\n",
       "    }\n",
       "\n",
       "    .dataframe thead th {\n",
       "        text-align: right;\n",
       "    }\n",
       "</style>\n",
       "<table border=\"1\" class=\"dataframe\">\n",
       "  <thead>\n",
       "    <tr style=\"text-align: right;\">\n",
       "      <th></th>\n",
       "      <th>InvoiceNo</th>\n",
       "      <th>StockCode</th>\n",
       "      <th>Description</th>\n",
       "      <th>Quantity</th>\n",
       "      <th>InvoiceDate</th>\n",
       "      <th>UnitPrice</th>\n",
       "      <th>CustomerID</th>\n",
       "      <th>Country</th>\n",
       "      <th>TotalPriceLineItem</th>\n",
       "    </tr>\n",
       "  </thead>\n",
       "  <tbody>\n",
       "    <tr>\n",
       "      <th>0</th>\n",
       "      <td>536365</td>\n",
       "      <td>85123A</td>\n",
       "      <td>WHITE HANGING HEART T-LIGHT HOLDER</td>\n",
       "      <td>6</td>\n",
       "      <td>2010-12-01 08:26:00</td>\n",
       "      <td>2.5500</td>\n",
       "      <td>17,850.0000</td>\n",
       "      <td>United Kingdom</td>\n",
       "      <td>15.3000</td>\n",
       "    </tr>\n",
       "    <tr>\n",
       "      <th>1</th>\n",
       "      <td>536365</td>\n",
       "      <td>71053</td>\n",
       "      <td>WHITE METAL LANTERN</td>\n",
       "      <td>6</td>\n",
       "      <td>2010-12-01 08:26:00</td>\n",
       "      <td>3.3900</td>\n",
       "      <td>17,850.0000</td>\n",
       "      <td>United Kingdom</td>\n",
       "      <td>20.3400</td>\n",
       "    </tr>\n",
       "    <tr>\n",
       "      <th>2</th>\n",
       "      <td>536365</td>\n",
       "      <td>84406B</td>\n",
       "      <td>CREAM CUPID HEARTS COAT HANGER</td>\n",
       "      <td>8</td>\n",
       "      <td>2010-12-01 08:26:00</td>\n",
       "      <td>2.7500</td>\n",
       "      <td>17,850.0000</td>\n",
       "      <td>United Kingdom</td>\n",
       "      <td>22.0000</td>\n",
       "    </tr>\n",
       "    <tr>\n",
       "      <th>3</th>\n",
       "      <td>536365</td>\n",
       "      <td>84029G</td>\n",
       "      <td>KNITTED UNION FLAG HOT WATER BOTTLE</td>\n",
       "      <td>6</td>\n",
       "      <td>2010-12-01 08:26:00</td>\n",
       "      <td>3.3900</td>\n",
       "      <td>17,850.0000</td>\n",
       "      <td>United Kingdom</td>\n",
       "      <td>20.3400</td>\n",
       "    </tr>\n",
       "    <tr>\n",
       "      <th>4</th>\n",
       "      <td>536365</td>\n",
       "      <td>84029E</td>\n",
       "      <td>RED WOOLLY HOTTIE WHITE HEART.</td>\n",
       "      <td>6</td>\n",
       "      <td>2010-12-01 08:26:00</td>\n",
       "      <td>3.3900</td>\n",
       "      <td>17,850.0000</td>\n",
       "      <td>United Kingdom</td>\n",
       "      <td>20.3400</td>\n",
       "    </tr>\n",
       "    <tr>\n",
       "      <th>...</th>\n",
       "      <td>...</td>\n",
       "      <td>...</td>\n",
       "      <td>...</td>\n",
       "      <td>...</td>\n",
       "      <td>...</td>\n",
       "      <td>...</td>\n",
       "      <td>...</td>\n",
       "      <td>...</td>\n",
       "      <td>...</td>\n",
       "    </tr>\n",
       "    <tr>\n",
       "      <th>541889</th>\n",
       "      <td>581585</td>\n",
       "      <td>22466</td>\n",
       "      <td>FAIRY TALE COTTAGE NIGHT LIGHT</td>\n",
       "      <td>12</td>\n",
       "      <td>2011-12-09 12:31:00</td>\n",
       "      <td>1.9500</td>\n",
       "      <td>15,804.0000</td>\n",
       "      <td>United Kingdom</td>\n",
       "      <td>23.4000</td>\n",
       "    </tr>\n",
       "    <tr>\n",
       "      <th>541890</th>\n",
       "      <td>581586</td>\n",
       "      <td>22061</td>\n",
       "      <td>LARGE CAKE STAND  HANGING STRAWBERY</td>\n",
       "      <td>8</td>\n",
       "      <td>2011-12-09 12:49:00</td>\n",
       "      <td>2.9500</td>\n",
       "      <td>13,113.0000</td>\n",
       "      <td>United Kingdom</td>\n",
       "      <td>23.6000</td>\n",
       "    </tr>\n",
       "    <tr>\n",
       "      <th>541891</th>\n",
       "      <td>581586</td>\n",
       "      <td>23275</td>\n",
       "      <td>SET OF 3 HANGING OWLS OLLIE BEAK</td>\n",
       "      <td>24</td>\n",
       "      <td>2011-12-09 12:49:00</td>\n",
       "      <td>1.2500</td>\n",
       "      <td>13,113.0000</td>\n",
       "      <td>United Kingdom</td>\n",
       "      <td>30.0000</td>\n",
       "    </tr>\n",
       "    <tr>\n",
       "      <th>541892</th>\n",
       "      <td>581586</td>\n",
       "      <td>21217</td>\n",
       "      <td>RED RETROSPOT ROUND CAKE TINS</td>\n",
       "      <td>24</td>\n",
       "      <td>2011-12-09 12:49:00</td>\n",
       "      <td>8.9500</td>\n",
       "      <td>13,113.0000</td>\n",
       "      <td>United Kingdom</td>\n",
       "      <td>214.8000</td>\n",
       "    </tr>\n",
       "    <tr>\n",
       "      <th>541893</th>\n",
       "      <td>581586</td>\n",
       "      <td>20685</td>\n",
       "      <td>DOORMAT RED RETROSPOT</td>\n",
       "      <td>10</td>\n",
       "      <td>2011-12-09 12:49:00</td>\n",
       "      <td>7.0800</td>\n",
       "      <td>13,113.0000</td>\n",
       "      <td>United Kingdom</td>\n",
       "      <td>70.8000</td>\n",
       "    </tr>\n",
       "  </tbody>\n",
       "</table>\n",
       "<p>479985 rows × 9 columns</p>\n",
       "</div>"
      ],
      "text/plain": [
       "       InvoiceNo StockCode                          Description  Quantity  \\\n",
       "0         536365    85123A   WHITE HANGING HEART T-LIGHT HOLDER         6   \n",
       "1         536365     71053                  WHITE METAL LANTERN         6   \n",
       "2         536365    84406B       CREAM CUPID HEARTS COAT HANGER         8   \n",
       "3         536365    84029G  KNITTED UNION FLAG HOT WATER BOTTLE         6   \n",
       "4         536365    84029E       RED WOOLLY HOTTIE WHITE HEART.         6   \n",
       "...          ...       ...                                  ...       ...   \n",
       "541889    581585     22466       FAIRY TALE COTTAGE NIGHT LIGHT        12   \n",
       "541890    581586     22061  LARGE CAKE STAND  HANGING STRAWBERY         8   \n",
       "541891    581586     23275     SET OF 3 HANGING OWLS OLLIE BEAK        24   \n",
       "541892    581586     21217        RED RETROSPOT ROUND CAKE TINS        24   \n",
       "541893    581586     20685                DOORMAT RED RETROSPOT        10   \n",
       "\n",
       "               InvoiceDate  UnitPrice  CustomerID         Country  \\\n",
       "0      2010-12-01 08:26:00     2.5500 17,850.0000  United Kingdom   \n",
       "1      2010-12-01 08:26:00     3.3900 17,850.0000  United Kingdom   \n",
       "2      2010-12-01 08:26:00     2.7500 17,850.0000  United Kingdom   \n",
       "3      2010-12-01 08:26:00     3.3900 17,850.0000  United Kingdom   \n",
       "4      2010-12-01 08:26:00     3.3900 17,850.0000  United Kingdom   \n",
       "...                    ...        ...         ...             ...   \n",
       "541889 2011-12-09 12:31:00     1.9500 15,804.0000  United Kingdom   \n",
       "541890 2011-12-09 12:49:00     2.9500 13,113.0000  United Kingdom   \n",
       "541891 2011-12-09 12:49:00     1.2500 13,113.0000  United Kingdom   \n",
       "541892 2011-12-09 12:49:00     8.9500 13,113.0000  United Kingdom   \n",
       "541893 2011-12-09 12:49:00     7.0800 13,113.0000  United Kingdom   \n",
       "\n",
       "        TotalPriceLineItem  \n",
       "0                  15.3000  \n",
       "1                  20.3400  \n",
       "2                  22.0000  \n",
       "3                  20.3400  \n",
       "4                  20.3400  \n",
       "...                    ...  \n",
       "541889             23.4000  \n",
       "541890             23.6000  \n",
       "541891             30.0000  \n",
       "541892            214.8000  \n",
       "541893             70.8000  \n",
       "\n",
       "[479985 rows x 9 columns]"
      ]
     },
     "execution_count": 26,
     "metadata": {},
     "output_type": "execute_result"
    }
   ],
   "source": [
    "df_copy[df_copy['Country'] == 'United Kingdom']"
   ]
  },
  {
   "cell_type": "code",
   "execution_count": 27,
   "id": "c0da3a3a",
   "metadata": {},
   "outputs": [
    {
     "data": {
      "image/png": "[encoded data removed]",
      "text/plain": [
       "<Figure size 800x550 with 1 Axes>"
      ]
     },
     "metadata": {},
     "output_type": "display_data"
    }
   ],
   "source": [
    "uk = df_copy[df_copy['Country'] == 'United Kingdom']\n",
    "\n",
    "sns.histplot(uk, x='TotalPriceLineItem', bins=200, color='Orange')\n",
    "plt.title('TotalPriceLineItem distribution to the UK')\n",
    "plt.xlabel('TotalPriceLineItem (Logarithmic Scale)')\n",
    "plt.ylabel('Counting')\n",
    "plt.xscale('log')\n",
    "plt.show()"
   ]
  },
  {
   "cell_type": "code",
   "execution_count": 28,
   "id": "6e3af284",
   "metadata": {},
   "outputs": [
    {
     "data": {
      "image/png": "[encoded data removed]",
      "text/plain": [
       "<Figure size 800x550 with 1 Axes>"
      ]
     },
     "metadata": {},
     "output_type": "display_data"
    }
   ],
   "source": [
    "gm = df_copy[df_copy['Country'] == 'Germany']\n",
    "\n",
    "sns.histplot(gm, x='TotalPriceLineItem', bins=200, color='Purple')\n",
    "plt.title('TotalPriceLineItem distribution to Germany')\n",
    "plt.xlabel('TotalPriceLineItem (Logarithmic Scale)')\n",
    "plt.xscale('log')\n",
    "plt.show()"
   ]
  },
  {
   "cell_type": "code",
   "execution_count": 29,
   "id": "6ca1533c",
   "metadata": {},
   "outputs": [
    {
     "data": {
      "image/png": "[encoded data removed]",
      "text/plain": [
       "<Figure size 800x550 with 1 Axes>"
      ]
     },
     "metadata": {},
     "output_type": "display_data"
    }
   ],
   "source": [
    "from scipy import stats\n",
    "\n",
    "stats.probplot(uk['TotalPriceLineItem'], dist='norm', plot=plt)\n",
    "plt.title('Normal QQ-Plot for the United Kingdom')\n",
    "plt.show()"
   ]
  },
  {
   "cell_type": "code",
   "execution_count": 30,
   "id": "e6df8baa",
   "metadata": {},
   "outputs": [
    {
     "data": {
      "image/png": "[encoded data removed]",
      "text/plain": [
       "<Figure size 800x550 with 1 Axes>"
      ]
     },
     "metadata": {},
     "output_type": "display_data"
    }
   ],
   "source": [
    "stats.probplot(gm['TotalPriceLineItem'], dist='norm', plot=plt)\n",
    "plt.title('Normal QQ-Plot for Germany')\n",
    "plt.show()"
   ]
  },
  {
   "cell_type": "markdown",
   "id": "0e3826c7",
   "metadata": {},
   "source": [
    "### Numerical normality tests"
   ]
  },
  {
   "cell_type": "code",
   "execution_count": 31,
   "id": "33ef1ef1",
   "metadata": {},
   "outputs": [
    {
     "name": "stdout",
     "output_type": "stream",
     "text": [
      "Lilliefors normality test\n",
      "Reject the null hypothesis of normality for the United Kingdom, p-valor: 0.0009999999999998899\n"
     ]
    }
   ],
   "source": [
    "from statsmodels.stats.diagnostic import lilliefors\n",
    "\n",
    "alpha = 0.05\n",
    "\n",
    "stats_test, p_value = lilliefors(uk['TotalPriceLineItem'], dist='norm')\n",
    "\n",
    "print('Lilliefors normality test')\n",
    "if p_value < alpha:\n",
    "    print(f'Reject the null hypothesis of normality for the United Kingdom, p-valor: {p_value}')\n",
    "else:\n",
    "    print(f'Do not reject the null hypothesis of normality for the United Kingdom, p-valor: {p_value}')"
   ]
  },
  {
   "cell_type": "code",
   "execution_count": 32,
   "id": "1bea23cc",
   "metadata": {},
   "outputs": [
    {
     "name": "stdout",
     "output_type": "stream",
     "text": [
      "Lilliefors normality test\n",
      "Reject the null hypothesis of normality for Germany, p-valor: 0.0009999999999998899\n"
     ]
    }
   ],
   "source": [
    "stats_test, p_value = lilliefors(gm['TotalPriceLineItem'], dist='norm')\n",
    "\n",
    "print('Lilliefors normality test')\n",
    "if p_value < alpha:\n",
    "    print(f'Reject the null hypothesis of normality for Germany, p-valor: {p_value}')\n",
    "else:\n",
    "    print(f'Do not reject the null hypothesis of normality for the Germany, p-valor: {p_value}')"
   ]
  },
  {
   "cell_type": "code",
   "execution_count": 33,
   "id": "07d224a0",
   "metadata": {},
   "outputs": [
    {
     "name": "stdout",
     "output_type": "stream",
     "text": [
      "Anderson-Darling normality test\n",
      "Reject the null hypothesis of normality for the United Kingdom.\n"
     ]
    }
   ],
   "source": [
    "result_ad_norm = stats.anderson(uk['TotalPriceLineItem'], dist='norm')\n",
    "\n",
    "\n",
    "print('Anderson-Darling normality test')\n",
    "\n",
    "if result_ad_norm.statistic > result_ad_norm.critical_values[2]: # 2 is the index for 5%\n",
    "    print(\"Reject the null hypothesis of normality for the United Kingdom.\")\n",
    "else:\n",
    "    print(\"Do not reject the null hypothesis of normality for the United Kingdom.\")"
   ]
  },
  {
   "cell_type": "code",
   "execution_count": 34,
   "id": "bf5a4fe6",
   "metadata": {},
   "outputs": [
    {
     "name": "stdout",
     "output_type": "stream",
     "text": [
      "Anderson-Darling normality test\n",
      "Reject the null hypothesis of normality for the Germany.\n"
     ]
    }
   ],
   "source": [
    "result_ad_norm = stats.anderson(gm['TotalPriceLineItem'], dist='norm')\n",
    "\n",
    "\n",
    "print('Anderson-Darling normality test')\n",
    "if result_ad_norm.statistic > result_ad_norm.critical_values[2]: # 2 is the index for 5%\n",
    "    print(\"Reject the null hypothesis of normality for the Germany.\")\n",
    "else:\n",
    "    print(\"Do not reject the null hypothesis of normality for the Germany.\")"
   ]
  },
  {
   "cell_type": "code",
   "execution_count": 35,
   "id": "15538f51",
   "metadata": {},
   "outputs": [
    {
     "name": "stdout",
     "output_type": "stream",
     "text": [
      "Kolmogorov-Smirnov (KS) normality test\n",
      "Reject the null hypothesis of normality for the United Kingdom.\n"
     ]
    }
   ],
   "source": [
    "\n",
    "statistic_ks_norm, p_value_ks_norm = stats.kstest(uk['TotalPriceLineItem'], 'norm')\n",
    "\n",
    "print('Kolmogorov-Smirnov (KS) normality test')\n",
    "if p_value_ks_norm < 0.05:\n",
    "    print(\"Reject the null hypothesis of normality for the United Kingdom.\")\n",
    "else:\n",
    "    print(\"Do not reject the null hypothesis of normality for the United Kingdom.\")"
   ]
  },
  {
   "cell_type": "code",
   "execution_count": 36,
   "id": "6c40a042",
   "metadata": {},
   "outputs": [
    {
     "name": "stdout",
     "output_type": "stream",
     "text": [
      "Kolmogorov-Smirnov (KS) normality test\n",
      "Reject the null hypothesis of normality for the Germany.\n"
     ]
    }
   ],
   "source": [
    "\n",
    "statistic_ks_norm, p_value_ks_norm = stats.kstest(gm['TotalPriceLineItem'], 'norm')\n",
    "\n",
    "\n",
    "print('Kolmogorov-Smirnov (KS) normality test')\n",
    "if p_value_ks_norm < 0.05:\n",
    "    print(\"Reject the null hypothesis of normality for the Germany.\")\n",
    "else:\n",
    "    print(\"Do not reject the null hypothesis of normality for the Germany.\")"
   ]
  },
  {
   "cell_type": "markdown",
   "id": "aeab4b03",
   "metadata": {},
   "source": [
    "## Homocedasticity test"
   ]
  },
  {
   "cell_type": "code",
   "execution_count": 37,
   "id": "db447d9a",
   "metadata": {},
   "outputs": [
    {
     "name": "stdout",
     "output_type": "stream",
     "text": [
      "Testing de Levene\n",
      "Do not reject the null hypothesis of equality between variances.\n"
     ]
    }
   ],
   "source": [
    "statistic_levene_equal, pvalue_levene_equal = stats.levene(uk['TotalPriceLineItem'], gm['TotalPriceLineItem'])\n",
    "\n",
    "print('Testing de Levene')\n",
    "if pvalue_levene_equal < alpha:\n",
    "    print(\"Reject the null hypothesis of equality between variances.\")\n",
    "else:\n",
    "    print(\"Do not reject the null hypothesis of equality between variances.\")"
   ]
  },
  {
   "cell_type": "code",
   "execution_count": 38,
   "id": "d8a6b0f5",
   "metadata": {},
   "outputs": [
    {
     "name": "stdout",
     "output_type": "stream",
     "text": [
      "Testing the Barlett\n",
      "Reject the null hypothesis of equality between variances.\n"
     ]
    }
   ],
   "source": [
    "statistic_bartlett_equal, pvalue_bartlett_equal = stats.bartlett(uk['TotalPriceLineItem'], gm['TotalPriceLineItem'])\n",
    "\n",
    "print('Testing the Barlett')\n",
    "if pvalue_bartlett_equal < alpha:\n",
    "    print(\"Reject the null hypothesis of equality between variances.\")\n",
    "else:\n",
    "    print(\"Do not reject the null hypothesis of equality between variances.\")\n"
   ]
  },
  {
   "cell_type": "code",
   "execution_count": 39,
   "id": "37199a38",
   "metadata": {},
   "outputs": [
    {
     "name": "stdout",
     "output_type": "stream",
     "text": [
      "Number of Line Items for the United Kingdom: 479985\n",
      "Number of line items for Germany: 9025\n"
     ]
    }
   ],
   "source": [
    "uk_prices = df_copy[df_copy['Country'] == 'United Kingdom']['TotalPriceLineItem']\n",
    "germany_prices = df_copy[df_copy['Country'] == 'Germany']['TotalPriceLineItem']\n",
    "\n",
    "print(f'Number of Line Items for the United Kingdom: {len(uk_prices)}')\n",
    "print(f'Number of line items for Germany: {len(germany_prices)}')"
   ]
  },
  {
   "cell_type": "code",
   "execution_count": 40,
   "id": "6fe37824",
   "metadata": {},
   "outputs": [
    {
     "name": "stdout",
     "output_type": "stream",
     "text": [
      "Scenario A: Equal Variances\n",
      "We reject the null hypothesis; there is a significant difference in the means.\n"
     ]
    }
   ],
   "source": [
    "t_stat_A_student, p_value_A_student = stats.ttest_ind(uk_prices, germany_prices, equal_var=True)\n",
    "\n",
    "print(\"Scenario A: Equal Variances\")\n",
    "\n",
    "if p_value_A_student < alpha:\n",
    "    print(\"We reject the null hypothesis; there is a significant difference in the means.\")\n",
    "else:\n",
    "    print(\"We do not reject the null hypothesis; there is insufficient evidence to say that the means are different.\")\n"
   ]
  },
  {
   "cell_type": "markdown",
   "id": "91762837",
   "metadata": {},
   "source": [
    "## Welch testing"
   ]
  },
  {
   "cell_type": "code",
   "execution_count": 41,
   "id": "d9f0a392",
   "metadata": {},
   "outputs": [
    {
     "name": "stdout",
     "output_type": "stream",
     "text": [
      "Scenario B: Different Variances\n",
      "We reject the null hypothesis; there is a significant difference in the means.\n"
     ]
    }
   ],
   "source": [
    "t_stat_B_welch, p_value_B_welch = stats.ttest_ind(uk_prices, germany_prices, equal_var=False)\n",
    "\n",
    "print(\"Scenario B: Different Variances\")\n",
    "\n",
    "if p_value_B_welch < alpha:\n",
    "    print(\"We reject the null hypothesis; there is a significant difference in the means.\")\n",
    "else:\n",
    "    print(\"We do not reject the null hypothesis; there is insufficient evidence to say that the means are different.\")"
   ]
  },
  {
   "cell_type": "markdown",
   "id": "2db9ce2b",
   "metadata": {},
   "source": [
    "### post-test"
   ]
  },
  {
   "cell_type": "code",
   "execution_count": 42,
   "id": "9f234a20",
   "metadata": {},
   "outputs": [],
   "source": [
    "def calculate_cohens_d(data1, data2):\n",
    "    n1, n2 = len(data1), len(data2)\n",
    "    mean1, mean2 = np.mean(data1), np.mean(data2)\n",
    "    std1, std2 = np.std(data1, ddof=1), np.std(data2, ddof=1)\n",
    "\n",
    "    pooled_std = np.sqrt(((n1 - 1) * std1**2 + (n2 - 1) * std2**2) / (n1 + n2 - 2))\n",
    "\n",
    "    cohens_d = (mean1 - mean2) / pooled_std\n",
    "    return cohens_d"
   ]
  },
  {
   "cell_type": "code",
   "execution_count": 43,
   "id": "1536465f",
   "metadata": {},
   "outputs": [
    {
     "name": "stdout",
     "output_type": "stream",
     "text": [
      "Cohen's d: -0.02\n",
      "The magnitude of the effect (Cohen's d) is considered very small (negligible in practice).\n"
     ]
    }
   ],
   "source": [
    "cohens_d_value = calculate_cohens_d(uk_prices, germany_prices)\n",
    "\n",
    "\n",
    "print(f\"Cohen's d: {cohens_d_value:.2f}\")\n",
    "if abs(cohens_d_value) < 0.2:\n",
    "    interpretation = \"very small (negligible in practice)\"\n",
    "elif abs(cohens_d_value) < 0.5:\n",
    "    interpretation = \"small\"\n",
    "elif abs(cohens_d_value) < 0.8:\n",
    "    interpretation = \"medium\"\n",
    "else:\n",
    "    interpretation = \"large\"\n",
    "\n",
    "print(f\"The magnitude of the effect (Cohen's d) is considered {interpretation}.\")"
   ]
  },
  {
   "cell_type": "code",
   "execution_count": 46,
   "id": "f1e9ae82",
   "metadata": {},
   "outputs": [
    {
     "data": {
      "text/plain": [
       "(np.float64(18.754219598529122), np.float64(25.338326869806092))"
      ]
     },
     "execution_count": 46,
     "metadata": {},
     "output_type": "execute_result"
    }
   ],
   "source": [
    "uk_prices.mean(), germany_prices.mean()"
   ]
  },
  {
   "cell_type": "markdown",
   "id": "bee8a295",
   "metadata": {},
   "source": [
    "## **Comparative Analysis: Average Value per Item (TotalPriceLineItem) - United Kingdom vs. Germany**\n",
    "\n",
    "### **1. The Business Challenge: Understanding Market Differences**\n",
    "\n",
    "Our e-commerce company operates in several markets, and understanding the small differences between each one is essential. Our goal with this analysis was to investigate whether there is a **significant difference in the average value per item sold (`TotalPriceLineItem`) between two of our largest key markets: the United Kingdom and Germany.**\n",
    "\n",
    "Knowing whether a country tends to purchase higher or lower value items can directly influence our strategies for:\n",
    "*   **Pricing:** Adjusting offers and promotions.\n",
    "*   **Marketing:** Targeting campaigns.\n",
    "*   **Product Portfolio:** Prioritizing luxury or entry-level items.\n",
    "*   **Logistics:** Optimizing inventory and distribution.\n",
    "\n",
    "### **2. Analysis Approach: Statistical Power**\n",
    "\n",
    "To ensure the robustness of our conclusions, we applied a rigorous statistical methodology:\n",
    "*   **Data Preparation:** We analyzed the distribution of `TotalPriceLineItem` data for both countries. We identified that, although the raw data does not follow a normal distribution (as is common in financial and sales data), the large volume of transactions (approximately 480,000 for the United Kingdom and 10,000 for Germany) allows us to use robust tests that reliably compare the means.\n",
    "*   **Hypothesis Testing:** We used Welch's t-test, a statistical tool suitable for comparing the means of two groups, even when the variances are different and the data are not perfectly normal.\n",
    "\n",
    "### **3. Analysis Results:**\n",
    "\n",
    "Our analysis led us to two main conclusions, which should be interpreted together:\n",
    "\n",
    "#### **A) Statistically Significant Difference (p-value < 0.05)**\n",
    "\n",
    "*   **What this means:** Statistical methods have shown that there is indeed a **statistically significant difference** in the `TotalPriceLineItem` averages between the United Kingdom and Germany. This means that the resulting difference is not random.\n",
    "*   **The Context:** Because we have a large amount of data for both groups, especially the United Kingdom, even a small variation between the groups can be detected (noise) as being “statistically significant.”\n",
    "\n",
    "#### **B) Practically Insignificant Difference (Cohen's d = -0.02)**\n",
    "\n",
    "*   **What this means:** To understand the *magnitude* of this detected difference, we calculated **Cohen's d**, a measure of “effect size.” The value of **-0.02** indicates a **very small, practically insignificant difference.**\n",
    "*   **In simple terms:** Although there is a small statistical fluctuation between the averages, in practice, this difference is so minimal that it has no relevant impact on business decisions or operations. Practically speaking, the average amount spent per Line Item is virtually the same in both countries.\n",
    "\n",
    "> **Averages for Context (Example - you would use your actual averages here):**\n",
    "> *   **United Kingdom:** Average `TotalPriceLineItem` = £18.75\n",
    "> *   **Germany:** Average `TotalPriceLineItem` = £25.34\n",
    "> *(The difference between $25.34 and $35.00 is so small that Cohen's d classified it as insignificant.)*\n",
    "\n",
    "### **4. Business Implications and Recommendations**\n",
    "\n",
    "Based on these results, our recommendations are:\n",
    "\n",
    "*   **Do Not Overreact to the Difference:** The small differences observed in the average value per item, although statistically present, **are not large enough to justify significant strategic changes** in pricing policies or product portfolio between the United Kingdom and Germany *based solely on this metric*.\n",
    "*   **Focus on Other Performance Drivers:** Sales performance and customer behavior in each country are likely to be influenced more by factors other than average value per item, such as:\n",
    "*   **Purchases:** Frequency of purchase.\n",
    "    *   **Total average ticket:** Total value of the shopping basket.\n",
    "*   **Specific product types:** Which product categories are most popular in each market.\n",
    "    * **Marketing campaigns:** Effectiveness of localized promotions.\n",
    "* **Local competition.**\n",
    "* **Maintain Unified Strategies (in this metric):** For `TotalPriceLineItem`, strategies can remain relatively unified unless other analyses reveal more relevant differences in other metrics.\n",
    "\n",
    "### **5. Conclusion: Distinguishing the “Significant” from the “Practical”**\n",
    "\n",
    "This analysis highlights the importance of looking beyond statistical significance. Although our tests detect small variations, the **effect size** is what truly informs us about the practical relevance of a finding. In this case, the difference in the mean value per item between the United Kingdom and Germany is so small that, for strategic and operational purposes, it can be considered insignificant."
   ]
  }
 ],
 "metadata": {
  "kernelspec": {
   "display_name": "venv",
   "language": "python",
   "name": "python3"
  },
  "language_info": {
   "codemirror_mode": {
    "name": "ipython",
    "version": 3
   },
   "file_extension": ".py",
   "mimetype": "text/x-python",
   "name": "python",
   "nbconvert_exporter": "python",
   "pygments_lexer": "ipython3",
   "version": "3.11.7"
  }
 },
 "nbformat": 4,
 "nbformat_minor": 5
}
