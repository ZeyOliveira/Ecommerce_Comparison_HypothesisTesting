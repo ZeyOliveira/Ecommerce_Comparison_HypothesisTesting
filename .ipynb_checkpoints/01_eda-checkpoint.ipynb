{
 "cells": [
  {
   "cell_type": "code",
   "execution_count": 2,
   "id": "bc6129a0-cbe1-49ed-820f-1eecbb431041",
   "metadata": {},
   "outputs": [],
   "source": [
    "import pandas as pd\n",
    "import matplotlib.pyplot as plt\n",
    "import seaborn as sns\n",
    "\n",
    "import warnings\n",
    "warnings.simplefilter(\"ignore\")\n",
    "\n",
    "# Visual Settings\n",
    "%matplotlib inline\n",
    "pd.set_option(\"display.max_columns\", None)\n",
    "pd.set_option(\"display.max_rows\", 100)\n",
    "pd.set_option(\"display.float_format\", lambda x:f\"{x:,.4f}\")\n",
    "\n",
    "# Graphic style\n",
    "plt.style.use(\"seaborn-v0_8\")\n",
    "sns.set_style(\"whitegrid\")\n",
    "sns.set_palette(\"Set1\")"
   ]
  },
  {
   "cell_type": "code",
   "execution_count": 3,
   "id": "3a157fdd-c770-463c-a883-ee0527f602c7",
   "metadata": {},
   "outputs": [
    {
     "data": {
      "text/html": [
       "<div>\n",
       "<style scoped>\n",
       "    .dataframe tbody tr th:only-of-type {\n",
       "        vertical-align: middle;\n",
       "    }\n",
       "\n",
       "    .dataframe tbody tr th {\n",
       "        vertical-align: top;\n",
       "    }\n",
       "\n",
       "    .dataframe thead th {\n",
       "        text-align: right;\n",
       "    }\n",
       "</style>\n",
       "<table border=\"1\" class=\"dataframe\">\n",
       "  <thead>\n",
       "    <tr style=\"text-align: right;\">\n",
       "      <th></th>\n",
       "      <th>InvoiceNo</th>\n",
       "      <th>StockCode</th>\n",
       "      <th>Description</th>\n",
       "      <th>Quantity</th>\n",
       "      <th>InvoiceDate</th>\n",
       "      <th>UnitPrice</th>\n",
       "      <th>CustomerID</th>\n",
       "      <th>Country</th>\n",
       "    </tr>\n",
       "  </thead>\n",
       "  <tbody>\n",
       "    <tr>\n",
       "      <th>0</th>\n",
       "      <td>536365</td>\n",
       "      <td>85123A</td>\n",
       "      <td>WHITE HANGING HEART T-LIGHT HOLDER</td>\n",
       "      <td>6</td>\n",
       "      <td>12/1/2010 8:26</td>\n",
       "      <td>2.5500</td>\n",
       "      <td>17,850.0000</td>\n",
       "      <td>United Kingdom</td>\n",
       "    </tr>\n",
       "    <tr>\n",
       "      <th>1</th>\n",
       "      <td>536365</td>\n",
       "      <td>71053</td>\n",
       "      <td>WHITE METAL LANTERN</td>\n",
       "      <td>6</td>\n",
       "      <td>12/1/2010 8:26</td>\n",
       "      <td>3.3900</td>\n",
       "      <td>17,850.0000</td>\n",
       "      <td>United Kingdom</td>\n",
       "    </tr>\n",
       "    <tr>\n",
       "      <th>2</th>\n",
       "      <td>536365</td>\n",
       "      <td>84406B</td>\n",
       "      <td>CREAM CUPID HEARTS COAT HANGER</td>\n",
       "      <td>8</td>\n",
       "      <td>12/1/2010 8:26</td>\n",
       "      <td>2.7500</td>\n",
       "      <td>17,850.0000</td>\n",
       "      <td>United Kingdom</td>\n",
       "    </tr>\n",
       "    <tr>\n",
       "      <th>3</th>\n",
       "      <td>536365</td>\n",
       "      <td>84029G</td>\n",
       "      <td>KNITTED UNION FLAG HOT WATER BOTTLE</td>\n",
       "      <td>6</td>\n",
       "      <td>12/1/2010 8:26</td>\n",
       "      <td>3.3900</td>\n",
       "      <td>17,850.0000</td>\n",
       "      <td>United Kingdom</td>\n",
       "    </tr>\n",
       "    <tr>\n",
       "      <th>4</th>\n",
       "      <td>536365</td>\n",
       "      <td>84029E</td>\n",
       "      <td>RED WOOLLY HOTTIE WHITE HEART.</td>\n",
       "      <td>6</td>\n",
       "      <td>12/1/2010 8:26</td>\n",
       "      <td>3.3900</td>\n",
       "      <td>17,850.0000</td>\n",
       "      <td>United Kingdom</td>\n",
       "    </tr>\n",
       "  </tbody>\n",
       "</table>\n",
       "</div>"
      ],
      "text/plain": [
       "  InvoiceNo StockCode                          Description  Quantity  \\\n",
       "0    536365    85123A   WHITE HANGING HEART T-LIGHT HOLDER         6   \n",
       "1    536365     71053                  WHITE METAL LANTERN         6   \n",
       "2    536365    84406B       CREAM CUPID HEARTS COAT HANGER         8   \n",
       "3    536365    84029G  KNITTED UNION FLAG HOT WATER BOTTLE         6   \n",
       "4    536365    84029E       RED WOOLLY HOTTIE WHITE HEART.         6   \n",
       "\n",
       "      InvoiceDate  UnitPrice  CustomerID         Country  \n",
       "0  12/1/2010 8:26     2.5500 17,850.0000  United Kingdom  \n",
       "1  12/1/2010 8:26     3.3900 17,850.0000  United Kingdom  \n",
       "2  12/1/2010 8:26     2.7500 17,850.0000  United Kingdom  \n",
       "3  12/1/2010 8:26     3.3900 17,850.0000  United Kingdom  \n",
       "4  12/1/2010 8:26     3.3900 17,850.0000  United Kingdom  "
      ]
     },
     "execution_count": 3,
     "metadata": {},
     "output_type": "execute_result"
    }
   ],
   "source": [
    "df = pd.read_csv('data/raw/data.csv', encoding='latin1')\n",
    "df.head()"
   ]
  },
  {
   "cell_type": "code",
   "execution_count": 4,
   "id": "905bb4c4-6325-4237-94d9-404ccd7f89db",
   "metadata": {},
   "outputs": [
    {
     "name": "stdout",
     "output_type": "stream",
     "text": [
      "<class 'pandas.core.frame.DataFrame'>\n",
      "RangeIndex: 541909 entries, 0 to 541908\n",
      "Data columns (total 8 columns):\n",
      " #   Column       Non-Null Count   Dtype  \n",
      "---  ------       --------------   -----  \n",
      " 0   InvoiceNo    541909 non-null  object \n",
      " 1   StockCode    541909 non-null  object \n",
      " 2   Description  540455 non-null  object \n",
      " 3   Quantity     541909 non-null  int64  \n",
      " 4   InvoiceDate  541909 non-null  object \n",
      " 5   UnitPrice    541909 non-null  float64\n",
      " 6   CustomerID   406829 non-null  float64\n",
      " 7   Country      541909 non-null  object \n",
      "dtypes: float64(2), int64(1), object(5)\n",
      "memory usage: 33.1+ MB\n"
     ]
    }
   ],
   "source": [
    "df.info()"
   ]
  },
  {
   "cell_type": "code",
   "execution_count": 5,
   "id": "c0bfb6b9-79dd-494b-97ed-844d7f3b3ace",
   "metadata": {},
   "outputs": [
    {
     "data": {
      "text/html": [
       "<div>\n",
       "<style scoped>\n",
       "    .dataframe tbody tr th:only-of-type {\n",
       "        vertical-align: middle;\n",
       "    }\n",
       "\n",
       "    .dataframe tbody tr th {\n",
       "        vertical-align: top;\n",
       "    }\n",
       "\n",
       "    .dataframe thead th {\n",
       "        text-align: right;\n",
       "    }\n",
       "</style>\n",
       "<table border=\"1\" class=\"dataframe\">\n",
       "  <thead>\n",
       "    <tr style=\"text-align: right;\">\n",
       "      <th></th>\n",
       "      <th>Quantity</th>\n",
       "      <th>UnitPrice</th>\n",
       "      <th>CustomerID</th>\n",
       "    </tr>\n",
       "  </thead>\n",
       "  <tbody>\n",
       "    <tr>\n",
       "      <th>count</th>\n",
       "      <td>541,909.0000</td>\n",
       "      <td>541,909.0000</td>\n",
       "      <td>406,829.0000</td>\n",
       "    </tr>\n",
       "    <tr>\n",
       "      <th>mean</th>\n",
       "      <td>9.5522</td>\n",
       "      <td>4.6111</td>\n",
       "      <td>15,287.6906</td>\n",
       "    </tr>\n",
       "    <tr>\n",
       "      <th>std</th>\n",
       "      <td>218.0812</td>\n",
       "      <td>96.7599</td>\n",
       "      <td>1,713.6003</td>\n",
       "    </tr>\n",
       "    <tr>\n",
       "      <th>min</th>\n",
       "      <td>-80,995.0000</td>\n",
       "      <td>-11,062.0600</td>\n",
       "      <td>12,346.0000</td>\n",
       "    </tr>\n",
       "    <tr>\n",
       "      <th>25%</th>\n",
       "      <td>1.0000</td>\n",
       "      <td>1.2500</td>\n",
       "      <td>13,953.0000</td>\n",
       "    </tr>\n",
       "    <tr>\n",
       "      <th>50%</th>\n",
       "      <td>3.0000</td>\n",
       "      <td>2.0800</td>\n",
       "      <td>15,152.0000</td>\n",
       "    </tr>\n",
       "    <tr>\n",
       "      <th>75%</th>\n",
       "      <td>10.0000</td>\n",
       "      <td>4.1300</td>\n",
       "      <td>16,791.0000</td>\n",
       "    </tr>\n",
       "    <tr>\n",
       "      <th>max</th>\n",
       "      <td>80,995.0000</td>\n",
       "      <td>38,970.0000</td>\n",
       "      <td>18,287.0000</td>\n",
       "    </tr>\n",
       "  </tbody>\n",
       "</table>\n",
       "</div>"
      ],
      "text/plain": [
       "          Quantity    UnitPrice   CustomerID\n",
       "count 541,909.0000 541,909.0000 406,829.0000\n",
       "mean        9.5522       4.6111  15,287.6906\n",
       "std       218.0812      96.7599   1,713.6003\n",
       "min   -80,995.0000 -11,062.0600  12,346.0000\n",
       "25%         1.0000       1.2500  13,953.0000\n",
       "50%         3.0000       2.0800  15,152.0000\n",
       "75%        10.0000       4.1300  16,791.0000\n",
       "max    80,995.0000  38,970.0000  18,287.0000"
      ]
     },
     "execution_count": 5,
     "metadata": {},
     "output_type": "execute_result"
    }
   ],
   "source": [
    "df.describe()"
   ]
  },
  {
   "cell_type": "markdown",
   "id": "7351596c-fd4e-4da4-b1a6-525192100e61",
   "metadata": {},
   "source": [
    "## Transformando a coluna para data e hora"
   ]
  },
  {
   "cell_type": "code",
   "execution_count": 7,
   "id": "9d21192d-3136-4b4b-93bc-910b6e8fdd68",
   "metadata": {},
   "outputs": [],
   "source": [
    "# Converter a coluna 'InvoiceDate' para datetime\n",
    "df['InvoiceDate'] = pd.to_datetime(df['InvoiceDate'])"
   ]
  },
  {
   "cell_type": "code",
   "execution_count": 8,
   "id": "5757613c-ffe3-4e8c-88a7-aa0b81484333",
   "metadata": {},
   "outputs": [
    {
     "data": {
      "text/plain": [
       "0        2010-12-01 08:26:00\n",
       "1        2010-12-01 08:26:00\n",
       "2        2010-12-01 08:26:00\n",
       "3        2010-12-01 08:26:00\n",
       "4        2010-12-01 08:26:00\n",
       "                 ...        \n",
       "541904   2011-12-09 12:50:00\n",
       "541905   2011-12-09 12:50:00\n",
       "541906   2011-12-09 12:50:00\n",
       "541907   2011-12-09 12:50:00\n",
       "541908   2011-12-09 12:50:00\n",
       "Name: InvoiceDate, Length: 541909, dtype: datetime64[ns]"
      ]
     },
     "execution_count": 8,
     "metadata": {},
     "output_type": "execute_result"
    }
   ],
   "source": [
    "df['InvoiceDate']"
   ]
  },
  {
   "cell_type": "code",
   "execution_count": 9,
   "id": "3670b931-4605-4f1e-a1e8-792c7ef6acd0",
   "metadata": {},
   "outputs": [
    {
     "data": {
      "text/plain": [
       "count   541,909.0000\n",
       "mean          9.5522\n",
       "std         218.0812\n",
       "min     -80,995.0000\n",
       "25%           1.0000\n",
       "50%           3.0000\n",
       "75%          10.0000\n",
       "max      80,995.0000\n",
       "Name: Quantity, dtype: float64"
      ]
     },
     "execution_count": 9,
     "metadata": {},
     "output_type": "execute_result"
    }
   ],
   "source": [
    "df['Quantity'].describe()"
   ]
  },
  {
   "cell_type": "markdown",
   "id": "ebacd90f-2e94-4142-bc59-0f2508489758",
   "metadata": {},
   "source": [
    "Valores negativos em **Quantity** geralmente indicam devoluções ou cancelamentos de pedidos. No contexto do nosso problema, esses itens não representam vendas efetivas."
   ]
  },
  {
   "cell_type": "code",
   "execution_count": 11,
   "id": "def36f05-19b7-4ae5-b841-e260c5ec51fc",
   "metadata": {},
   "outputs": [
    {
     "data": {
      "text/plain": [
       "Quantity\n",
       "-1        4184\n",
       "-2        1395\n",
       "-3         620\n",
       "-12        564\n",
       "-6         518\n",
       "          ... \n",
       "-272         1\n",
       "-1206        1\n",
       "-161         1\n",
       "-472         1\n",
       "-80995       1\n",
       "Name: count, Length: 329, dtype: int64"
      ]
     },
     "execution_count": 11,
     "metadata": {},
     "output_type": "execute_result"
    }
   ],
   "source": [
    "df[df['Quantity'] < 0]['Quantity'].value_counts()"
   ]
  },
  {
   "cell_type": "markdown",
   "id": "aeb3b193-482d-4574-9445-9c205367666d",
   "metadata": {},
   "source": [
    "Como suspeitávamos, são várias entradas com quantidades negativas, indicando devoluções ou ajustes. Para o nosso objetivo de calcular o \"valor médio por item vendido\" (uma métrica de receita/venda), essas transações de saída não devem ser consideradas."
   ]
  },
  {
   "cell_type": "code",
   "execution_count": 13,
   "id": "a8bc24f3-20b9-4c4e-a58f-65748a4d963e",
   "metadata": {},
   "outputs": [
    {
     "data": {
      "text/html": [
       "<div>\n",
       "<style scoped>\n",
       "    .dataframe tbody tr th:only-of-type {\n",
       "        vertical-align: middle;\n",
       "    }\n",
       "\n",
       "    .dataframe tbody tr th {\n",
       "        vertical-align: top;\n",
       "    }\n",
       "\n",
       "    .dataframe thead th {\n",
       "        text-align: right;\n",
       "    }\n",
       "</style>\n",
       "<table border=\"1\" class=\"dataframe\">\n",
       "  <thead>\n",
       "    <tr style=\"text-align: right;\">\n",
       "      <th></th>\n",
       "      <th>InvoiceNo</th>\n",
       "      <th>StockCode</th>\n",
       "      <th>Description</th>\n",
       "      <th>Quantity</th>\n",
       "      <th>InvoiceDate</th>\n",
       "      <th>UnitPrice</th>\n",
       "      <th>CustomerID</th>\n",
       "      <th>Country</th>\n",
       "    </tr>\n",
       "  </thead>\n",
       "  <tbody>\n",
       "    <tr>\n",
       "      <th>299983</th>\n",
       "      <td>A563186</td>\n",
       "      <td>B</td>\n",
       "      <td>Adjust bad debt</td>\n",
       "      <td>1</td>\n",
       "      <td>2011-08-12 14:51:00</td>\n",
       "      <td>-11,062.0600</td>\n",
       "      <td>NaN</td>\n",
       "      <td>United Kingdom</td>\n",
       "    </tr>\n",
       "    <tr>\n",
       "      <th>299984</th>\n",
       "      <td>A563187</td>\n",
       "      <td>B</td>\n",
       "      <td>Adjust bad debt</td>\n",
       "      <td>1</td>\n",
       "      <td>2011-08-12 14:52:00</td>\n",
       "      <td>-11,062.0600</td>\n",
       "      <td>NaN</td>\n",
       "      <td>United Kingdom</td>\n",
       "    </tr>\n",
       "  </tbody>\n",
       "</table>\n",
       "</div>"
      ],
      "text/plain": [
       "       InvoiceNo StockCode      Description  Quantity         InvoiceDate  \\\n",
       "299983   A563186         B  Adjust bad debt         1 2011-08-12 14:51:00   \n",
       "299984   A563187         B  Adjust bad debt         1 2011-08-12 14:52:00   \n",
       "\n",
       "          UnitPrice  CustomerID         Country  \n",
       "299983 -11,062.0600         NaN  United Kingdom  \n",
       "299984 -11,062.0600         NaN  United Kingdom  "
      ]
     },
     "execution_count": 13,
     "metadata": {},
     "output_type": "execute_result"
    }
   ],
   "source": [
    "df[df['UnitPrice'] < 0]"
   ]
  },
  {
   "cell_type": "markdown",
   "id": "7b336726-ede1-4f26-a21f-0170f31573a9",
   "metadata": {},
   "source": [
    "Você encontrou duas linhas específicas com UnitPrice negativo, e a descrição \"Adjust bad debt\" (Ajustar dívida duvidosa) reforça que estas não são vendas. Elas são ajustes financeiros e devem ser excluídas da nossa análise de vendas."
   ]
  },
  {
   "cell_type": "code",
   "execution_count": 15,
   "id": "63a80bdc-34b3-45e9-a2fd-528c0d28bf4a",
   "metadata": {},
   "outputs": [
    {
     "data": {
      "text/html": [
       "<div>\n",
       "<style scoped>\n",
       "    .dataframe tbody tr th:only-of-type {\n",
       "        vertical-align: middle;\n",
       "    }\n",
       "\n",
       "    .dataframe tbody tr th {\n",
       "        vertical-align: top;\n",
       "    }\n",
       "\n",
       "    .dataframe thead th {\n",
       "        text-align: right;\n",
       "    }\n",
       "</style>\n",
       "<table border=\"1\" class=\"dataframe\">\n",
       "  <thead>\n",
       "    <tr style=\"text-align: right;\">\n",
       "      <th></th>\n",
       "      <th>InvoiceNo</th>\n",
       "      <th>StockCode</th>\n",
       "      <th>Description</th>\n",
       "      <th>Quantity</th>\n",
       "      <th>InvoiceDate</th>\n",
       "      <th>UnitPrice</th>\n",
       "      <th>CustomerID</th>\n",
       "      <th>Country</th>\n",
       "    </tr>\n",
       "  </thead>\n",
       "  <tbody>\n",
       "    <tr>\n",
       "      <th>622</th>\n",
       "      <td>536414</td>\n",
       "      <td>22139</td>\n",
       "      <td>NaN</td>\n",
       "      <td>56</td>\n",
       "      <td>2010-12-01 11:52:00</td>\n",
       "      <td>0.0000</td>\n",
       "      <td>NaN</td>\n",
       "      <td>United Kingdom</td>\n",
       "    </tr>\n",
       "    <tr>\n",
       "      <th>1970</th>\n",
       "      <td>536545</td>\n",
       "      <td>21134</td>\n",
       "      <td>NaN</td>\n",
       "      <td>1</td>\n",
       "      <td>2010-12-01 14:32:00</td>\n",
       "      <td>0.0000</td>\n",
       "      <td>NaN</td>\n",
       "      <td>United Kingdom</td>\n",
       "    </tr>\n",
       "    <tr>\n",
       "      <th>1971</th>\n",
       "      <td>536546</td>\n",
       "      <td>22145</td>\n",
       "      <td>NaN</td>\n",
       "      <td>1</td>\n",
       "      <td>2010-12-01 14:33:00</td>\n",
       "      <td>0.0000</td>\n",
       "      <td>NaN</td>\n",
       "      <td>United Kingdom</td>\n",
       "    </tr>\n",
       "    <tr>\n",
       "      <th>1972</th>\n",
       "      <td>536547</td>\n",
       "      <td>37509</td>\n",
       "      <td>NaN</td>\n",
       "      <td>1</td>\n",
       "      <td>2010-12-01 14:33:00</td>\n",
       "      <td>0.0000</td>\n",
       "      <td>NaN</td>\n",
       "      <td>United Kingdom</td>\n",
       "    </tr>\n",
       "    <tr>\n",
       "      <th>1987</th>\n",
       "      <td>536549</td>\n",
       "      <td>85226A</td>\n",
       "      <td>NaN</td>\n",
       "      <td>1</td>\n",
       "      <td>2010-12-01 14:34:00</td>\n",
       "      <td>0.0000</td>\n",
       "      <td>NaN</td>\n",
       "      <td>United Kingdom</td>\n",
       "    </tr>\n",
       "    <tr>\n",
       "      <th>...</th>\n",
       "      <td>...</td>\n",
       "      <td>...</td>\n",
       "      <td>...</td>\n",
       "      <td>...</td>\n",
       "      <td>...</td>\n",
       "      <td>...</td>\n",
       "      <td>...</td>\n",
       "      <td>...</td>\n",
       "    </tr>\n",
       "    <tr>\n",
       "      <th>536981</th>\n",
       "      <td>581234</td>\n",
       "      <td>72817</td>\n",
       "      <td>NaN</td>\n",
       "      <td>27</td>\n",
       "      <td>2011-12-08 10:33:00</td>\n",
       "      <td>0.0000</td>\n",
       "      <td>NaN</td>\n",
       "      <td>United Kingdom</td>\n",
       "    </tr>\n",
       "    <tr>\n",
       "      <th>538504</th>\n",
       "      <td>581406</td>\n",
       "      <td>46000M</td>\n",
       "      <td>POLYESTER FILLER PAD 45x45cm</td>\n",
       "      <td>240</td>\n",
       "      <td>2011-12-08 13:58:00</td>\n",
       "      <td>0.0000</td>\n",
       "      <td>NaN</td>\n",
       "      <td>United Kingdom</td>\n",
       "    </tr>\n",
       "    <tr>\n",
       "      <th>538505</th>\n",
       "      <td>581406</td>\n",
       "      <td>46000S</td>\n",
       "      <td>POLYESTER FILLER PAD 40x40cm</td>\n",
       "      <td>300</td>\n",
       "      <td>2011-12-08 13:58:00</td>\n",
       "      <td>0.0000</td>\n",
       "      <td>NaN</td>\n",
       "      <td>United Kingdom</td>\n",
       "    </tr>\n",
       "    <tr>\n",
       "      <th>538554</th>\n",
       "      <td>581408</td>\n",
       "      <td>85175</td>\n",
       "      <td>NaN</td>\n",
       "      <td>20</td>\n",
       "      <td>2011-12-08 14:06:00</td>\n",
       "      <td>0.0000</td>\n",
       "      <td>NaN</td>\n",
       "      <td>United Kingdom</td>\n",
       "    </tr>\n",
       "    <tr>\n",
       "      <th>538919</th>\n",
       "      <td>581422</td>\n",
       "      <td>23169</td>\n",
       "      <td>smashed</td>\n",
       "      <td>-235</td>\n",
       "      <td>2011-12-08 15:24:00</td>\n",
       "      <td>0.0000</td>\n",
       "      <td>NaN</td>\n",
       "      <td>United Kingdom</td>\n",
       "    </tr>\n",
       "  </tbody>\n",
       "</table>\n",
       "<p>2515 rows × 8 columns</p>\n",
       "</div>"
      ],
      "text/plain": [
       "       InvoiceNo StockCode                   Description  Quantity  \\\n",
       "622       536414     22139                           NaN        56   \n",
       "1970      536545     21134                           NaN         1   \n",
       "1971      536546     22145                           NaN         1   \n",
       "1972      536547     37509                           NaN         1   \n",
       "1987      536549    85226A                           NaN         1   \n",
       "...          ...       ...                           ...       ...   \n",
       "536981    581234     72817                           NaN        27   \n",
       "538504    581406    46000M  POLYESTER FILLER PAD 45x45cm       240   \n",
       "538505    581406    46000S  POLYESTER FILLER PAD 40x40cm       300   \n",
       "538554    581408     85175                           NaN        20   \n",
       "538919    581422     23169                       smashed      -235   \n",
       "\n",
       "               InvoiceDate  UnitPrice  CustomerID         Country  \n",
       "622    2010-12-01 11:52:00     0.0000         NaN  United Kingdom  \n",
       "1970   2010-12-01 14:32:00     0.0000         NaN  United Kingdom  \n",
       "1971   2010-12-01 14:33:00     0.0000         NaN  United Kingdom  \n",
       "1972   2010-12-01 14:33:00     0.0000         NaN  United Kingdom  \n",
       "1987   2010-12-01 14:34:00     0.0000         NaN  United Kingdom  \n",
       "...                    ...        ...         ...             ...  \n",
       "536981 2011-12-08 10:33:00     0.0000         NaN  United Kingdom  \n",
       "538504 2011-12-08 13:58:00     0.0000         NaN  United Kingdom  \n",
       "538505 2011-12-08 13:58:00     0.0000         NaN  United Kingdom  \n",
       "538554 2011-12-08 14:06:00     0.0000         NaN  United Kingdom  \n",
       "538919 2011-12-08 15:24:00     0.0000         NaN  United Kingdom  \n",
       "\n",
       "[2515 rows x 8 columns]"
      ]
     },
     "execution_count": 15,
     "metadata": {},
     "output_type": "execute_result"
    }
   ],
   "source": [
    "df[df['UnitPrice'] == 0]"
   ]
  },
  {
   "cell_type": "markdown",
   "id": "23d70aa5-0750-4e2c-b20c-4370e970bd0f",
   "metadata": {},
   "source": [
    "No contexto do nosso problema específico – \"o valor médio por item vendido deveria ser de pelo menos £10.00 para garantir uma margem de lucro saudável\" – a resposta é não, não faz sentido manter UnitPrice igual a zero.\n",
    "\n",
    "Vou explicar o porquê:\n",
    "\n",
    "Contribuição para o Valor Total: Se o UnitPrice é 0, então o TotalPrice_LineItem (Quantity * UnitPrice) também será 0. Itens com valor total 0 não contribuem para a receita ou para a \"margem de lucro saudável\" que o benchmark de £10.00 busca garantir.\n",
    "Distração do Objetivo: Incluir esses itens de custo zero no cálculo da média de \"valor por item vendido\" distorceria a métrica. Eles arrastariam a média para baixo, sem que de fato representem uma venda geradora de receita para a qual o benchmark foi estabelecido.\n",
    "Cenários Comuns para UnitPrice = 0:\n",
    "Amostras Grátis: Itens enviados como amostra gratuita.\n",
    "Itens Promocionais: Brindes ou itens com desconto de 100%.\n",
    "Erros de Entrada: Dados incorretos.\n",
    "Itens Bundled: Podem ser itens que não têm um preço individual, mas fazem parte de um pacote maior.\n",
    "Embora esses cenários possam ser relevantes para outras análises (como engajamento, marketing ou para entender o que é enviado como brinde), para a nossa análise de profitabilidade por item vendido, eles não se encaixam no escopo. Nosso objetivo é avaliar a capacidade de cada item vendido em gerar receita acima de um certo limiar.\n",
    "\n",
    "Portanto, mantenha o filtro para UnitPrice > 0. Isso garante que estamos analisando apenas os itens que efetivamente geraram alguma receita na transação."
   ]
  },
  {
   "cell_type": "code",
   "execution_count": 17,
   "id": "a3099702-1bff-4bea-96af-959db94a6fc8",
   "metadata": {},
   "outputs": [],
   "source": [
    "df_copia = df[df['Quantity'] > 0]\n",
    "df_copia = df_copia[df_copia['UnitPrice'] > 0]"
   ]
  },
  {
   "cell_type": "code",
   "execution_count": 18,
   "id": "a40c9f3d-2db3-479e-a20e-db2160287328",
   "metadata": {},
   "outputs": [
    {
     "data": {
      "text/html": [
       "<div>\n",
       "<style scoped>\n",
       "    .dataframe tbody tr th:only-of-type {\n",
       "        vertical-align: middle;\n",
       "    }\n",
       "\n",
       "    .dataframe tbody tr th {\n",
       "        vertical-align: top;\n",
       "    }\n",
       "\n",
       "    .dataframe thead th {\n",
       "        text-align: right;\n",
       "    }\n",
       "</style>\n",
       "<table border=\"1\" class=\"dataframe\">\n",
       "  <thead>\n",
       "    <tr style=\"text-align: right;\">\n",
       "      <th></th>\n",
       "      <th>InvoiceNo</th>\n",
       "      <th>StockCode</th>\n",
       "      <th>Description</th>\n",
       "      <th>Quantity</th>\n",
       "      <th>InvoiceDate</th>\n",
       "      <th>UnitPrice</th>\n",
       "      <th>CustomerID</th>\n",
       "      <th>Country</th>\n",
       "    </tr>\n",
       "  </thead>\n",
       "  <tbody>\n",
       "  </tbody>\n",
       "</table>\n",
       "</div>"
      ],
      "text/plain": [
       "Empty DataFrame\n",
       "Columns: [InvoiceNo, StockCode, Description, Quantity, InvoiceDate, UnitPrice, CustomerID, Country]\n",
       "Index: []"
      ]
     },
     "execution_count": 18,
     "metadata": {},
     "output_type": "execute_result"
    }
   ],
   "source": [
    "df_copia[df_copia['UnitPrice'] < 0].head()"
   ]
  },
  {
   "cell_type": "code",
   "execution_count": 19,
   "id": "7484c125-b500-459c-ba80-5c96309b72e1",
   "metadata": {},
   "outputs": [
    {
     "data": {
      "text/html": [
       "<div>\n",
       "<style scoped>\n",
       "    .dataframe tbody tr th:only-of-type {\n",
       "        vertical-align: middle;\n",
       "    }\n",
       "\n",
       "    .dataframe tbody tr th {\n",
       "        vertical-align: top;\n",
       "    }\n",
       "\n",
       "    .dataframe thead th {\n",
       "        text-align: right;\n",
       "    }\n",
       "</style>\n",
       "<table border=\"1\" class=\"dataframe\">\n",
       "  <thead>\n",
       "    <tr style=\"text-align: right;\">\n",
       "      <th></th>\n",
       "      <th>InvoiceNo</th>\n",
       "      <th>StockCode</th>\n",
       "      <th>Description</th>\n",
       "      <th>Quantity</th>\n",
       "      <th>InvoiceDate</th>\n",
       "      <th>UnitPrice</th>\n",
       "      <th>CustomerID</th>\n",
       "      <th>Country</th>\n",
       "    </tr>\n",
       "  </thead>\n",
       "  <tbody>\n",
       "  </tbody>\n",
       "</table>\n",
       "</div>"
      ],
      "text/plain": [
       "Empty DataFrame\n",
       "Columns: [InvoiceNo, StockCode, Description, Quantity, InvoiceDate, UnitPrice, CustomerID, Country]\n",
       "Index: []"
      ]
     },
     "execution_count": 19,
     "metadata": {},
     "output_type": "execute_result"
    }
   ],
   "source": [
    "df_copia[df_copia['Quantity'] < 0].head()\n"
   ]
  },
  {
   "cell_type": "code",
   "execution_count": 20,
   "id": "81adb697-f56c-4d9d-80f9-915a4d020b2e",
   "metadata": {},
   "outputs": [],
   "source": [
    "df_copia['TotalPriceLineItem'] = df_copia['Quantity'] * df_copia['UnitPrice']"
   ]
  },
  {
   "cell_type": "code",
   "execution_count": 21,
   "id": "9c76879f-d2ff-4f52-abfe-280916a9af4e",
   "metadata": {},
   "outputs": [
    {
     "data": {
      "text/plain": [
       "count   530,104.0000\n",
       "mean         20.1219\n",
       "std         270.3567\n",
       "min           0.0010\n",
       "25%           3.7500\n",
       "50%           9.9000\n",
       "75%          17.7000\n",
       "max     168,469.6000\n",
       "Name: TotalPriceLineItem, dtype: float64"
      ]
     },
     "execution_count": 21,
     "metadata": {},
     "output_type": "execute_result"
    }
   ],
   "source": [
    "df_copia['TotalPriceLineItem'].describe()"
   ]
  },
  {
   "cell_type": "code",
   "execution_count": 22,
   "id": "009f7038-5026-4611-a46b-c780dbc1b9ec",
   "metadata": {},
   "outputs": [
    {
     "data": {
      "text/plain": [
       "530104"
      ]
     },
     "execution_count": 22,
     "metadata": {},
     "output_type": "execute_result"
    }
   ],
   "source": [
    "df_copia['TotalPriceLineItem'].count()"
   ]
  },
  {
   "cell_type": "markdown",
   "id": "ee473791-513d-4b2f-a9f5-0606d9626199",
   "metadata": {},
   "source": [
    "- Esse é o número de transações válidas, ou seja, itens vendidos com quantidade e preço, após a limpeza."
   ]
  },
  {
   "cell_type": "code",
   "execution_count": 24,
   "id": "dbe2a16d-7d72-412a-8827-8cff6e0b8c28",
   "metadata": {},
   "outputs": [
    {
     "data": {
      "text/plain": [
       "20.121871451639677"
      ]
     },
     "execution_count": 24,
     "metadata": {},
     "output_type": "execute_result"
    }
   ],
   "source": [
    "df_copia['TotalPriceLineItem'].mean()"
   ]
  },
  {
   "cell_type": "markdown",
   "id": "19aabb2a-3fed-4c63-bb15-68a6d9c1b2ae",
   "metadata": {},
   "source": [
    "- A média do valor por item vendido nessa amostra é de aproximadamente £20.12."
   ]
  },
  {
   "cell_type": "code",
   "execution_count": 26,
   "id": "8601af8f-8f5d-4402-98e3-3fcd96eaa581",
   "metadata": {},
   "outputs": [
    {
     "data": {
      "text/plain": [
       "270.35674321836746"
      ]
     },
     "execution_count": 26,
     "metadata": {},
     "output_type": "execute_result"
    }
   ],
   "source": [
    "df_copia['TotalPriceLineItem'].std()"
   ]
  },
  {
   "cell_type": "markdown",
   "id": "a3d8f4b8-bda6-47ca-970c-8c5a72d32851",
   "metadata": {},
   "source": [
    "- Desvio bem alto, isso quer dizer que a dispersão dos valores é grande, isso é comum em dados de vendas, alguns itens podem ter valores superiores a média."
   ]
  },
  {
   "cell_type": "code",
   "execution_count": 28,
   "id": "7ce40749-4f4c-4579-9a2a-5b3f39a5e4b6",
   "metadata": {},
   "outputs": [
    {
     "data": {
      "text/plain": [
       "168469.6"
      ]
     },
     "execution_count": 28,
     "metadata": {},
     "output_type": "execute_result"
    }
   ],
   "source": [
    "df_copia['TotalPriceLineItem'].max()"
   ]
  },
  {
   "cell_type": "markdown",
   "id": "253e1c05-90eb-4eb3-acd7-82b4d93c2837",
   "metadata": {},
   "source": [
    "Há itens com valores de vendas extremamente altos, isso só confirma a alta dispersão e a presença de potenciais valores discrepantes, ou itens de grande volume/valor."
   ]
  },
  {
   "cell_type": "code",
   "execution_count": null,
   "id": "f37b4145-6275-4963-b222-6055fc619186",
   "metadata": {},
   "outputs": [
    {
     "name": "stderr",
     "output_type": "stream",
     "text": [
      "\n",
      "KeyboardInterrupt\n",
      "\n"
     ]
    },
    {
     "name": "stdout",
     "output_type": "stream",
     "text": [
      "Error in callback <function _draw_all_if_interactive at 0x000001DADA126340> (for post_execute), with arguments args (),kwargs {}:\n"
     ]
    },
    {
     "name": "stderr",
     "output_type": "stream",
     "text": [
      "\n",
      "KeyboardInterrupt\n",
      "\n"
     ]
    },
    {
     "name": "stdout",
     "output_type": "stream",
     "text": [
      "Error in callback <function flush_figures at 0x000001DAEA0B6660> (for post_execute), with arguments args (),kwargs {}:\n"
     ]
    }
   ],
   "source": [
    "sns.histplot(data=df_copia, x=df_copia['TotalPriceLineItem'])"
   ]
  },
  {
   "cell_type": "code",
   "execution_count": null,
   "id": "48e42f69-8a2b-4687-b774-48f83aa7c44d",
   "metadata": {},
   "outputs": [],
   "source": []
  }
 ],
 "metadata": {
  "kernelspec": {
   "display_name": "machine_learning",
   "language": "python",
   "name": "machine_learning"
  },
  "language_info": {
   "codemirror_mode": {
    "name": "ipython",
    "version": 3
   },
   "file_extension": ".py",
   "mimetype": "text/x-python",
   "name": "python",
   "nbconvert_exporter": "python",
   "pygments_lexer": "ipython3",
   "version": "3.12.5"
  }
 },
 "nbformat": 4,
 "nbformat_minor": 5
}
